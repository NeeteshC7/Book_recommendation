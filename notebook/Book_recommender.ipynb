{
  "cells": [
    {
      "cell_type": "code",
      "execution_count": 1,
      "metadata": {
        "id": "PqoMmqsKz2ZZ"
      },
      "outputs": [],
      "source": [
        "import numpy as np\n",
        "import pandas as pd\n",
        "from matplotlib import pyplot as plt\n",
        "import seaborn as sns\n",
        "from sklearn.metrics.pairwise import cosine_similarity\n",
        "from sklearn.feature_extraction.text import CountVectorizer\n",
        "\n",
        "import warnings\n",
        "warnings.filterwarnings('ignore')"
      ]
    },
    {
      "cell_type": "markdown",
      "metadata": {
        "id": "l9M8Y3FX0cAU"
      },
      "source": [
        "## EDA"
      ]
    },
    {
      "cell_type": "code",
      "execution_count": 8,
      "metadata": {
        "id": "2zuhymqJ0eDP"
      },
      "outputs": [],
      "source": [
        "books = pd.read_csv('data/Books.csv')\n",
        "ratings = pd.read_csv(\"data/Ratings.csv\")\n",
        "users = pd.read_csv(\"data/Users.csv\")"
      ]
    },
    {
      "cell_type": "code",
      "execution_count": 9,
      "metadata": {
        "colab": {
          "base_uri": "https://localhost:8080/",
          "height": 414
        },
        "id": "ij5rEUv42bYS",
        "outputId": "137682a1-e90c-45af-9272-d15fa35d165e"
      },
      "outputs": [
        {
          "data": {
            "text/html": [
              "<div>\n",
              "<style scoped>\n",
              "    .dataframe tbody tr th:only-of-type {\n",
              "        vertical-align: middle;\n",
              "    }\n",
              "\n",
              "    .dataframe tbody tr th {\n",
              "        vertical-align: top;\n",
              "    }\n",
              "\n",
              "    .dataframe thead th {\n",
              "        text-align: right;\n",
              "    }\n",
              "</style>\n",
              "<table border=\"1\" class=\"dataframe\">\n",
              "  <thead>\n",
              "    <tr style=\"text-align: right;\">\n",
              "      <th></th>\n",
              "      <th>ISBN</th>\n",
              "      <th>Book-Title</th>\n",
              "      <th>Book-Author</th>\n",
              "      <th>Year-Of-Publication</th>\n",
              "      <th>Publisher</th>\n",
              "      <th>Image-URL-S</th>\n",
              "      <th>Image-URL-M</th>\n",
              "      <th>Image-URL-L</th>\n",
              "    </tr>\n",
              "  </thead>\n",
              "  <tbody>\n",
              "    <tr>\n",
              "      <th>0</th>\n",
              "      <td>0195153448</td>\n",
              "      <td>Classical Mythology</td>\n",
              "      <td>Mark P. O. Morford</td>\n",
              "      <td>2002</td>\n",
              "      <td>Oxford University Press</td>\n",
              "      <td>http://images.amazon.com/images/P/0195153448.0...</td>\n",
              "      <td>http://images.amazon.com/images/P/0195153448.0...</td>\n",
              "      <td>http://images.amazon.com/images/P/0195153448.0...</td>\n",
              "    </tr>\n",
              "    <tr>\n",
              "      <th>1</th>\n",
              "      <td>0002005018</td>\n",
              "      <td>Clara Callan</td>\n",
              "      <td>Richard Bruce Wright</td>\n",
              "      <td>2001</td>\n",
              "      <td>HarperFlamingo Canada</td>\n",
              "      <td>http://images.amazon.com/images/P/0002005018.0...</td>\n",
              "      <td>http://images.amazon.com/images/P/0002005018.0...</td>\n",
              "      <td>http://images.amazon.com/images/P/0002005018.0...</td>\n",
              "    </tr>\n",
              "    <tr>\n",
              "      <th>2</th>\n",
              "      <td>0060973129</td>\n",
              "      <td>Decision in Normandy</td>\n",
              "      <td>Carlo D'Este</td>\n",
              "      <td>1991</td>\n",
              "      <td>HarperPerennial</td>\n",
              "      <td>http://images.amazon.com/images/P/0060973129.0...</td>\n",
              "      <td>http://images.amazon.com/images/P/0060973129.0...</td>\n",
              "      <td>http://images.amazon.com/images/P/0060973129.0...</td>\n",
              "    </tr>\n",
              "    <tr>\n",
              "      <th>3</th>\n",
              "      <td>0374157065</td>\n",
              "      <td>Flu: The Story of the Great Influenza Pandemic...</td>\n",
              "      <td>Gina Bari Kolata</td>\n",
              "      <td>1999</td>\n",
              "      <td>Farrar Straus Giroux</td>\n",
              "      <td>http://images.amazon.com/images/P/0374157065.0...</td>\n",
              "      <td>http://images.amazon.com/images/P/0374157065.0...</td>\n",
              "      <td>http://images.amazon.com/images/P/0374157065.0...</td>\n",
              "    </tr>\n",
              "    <tr>\n",
              "      <th>4</th>\n",
              "      <td>0393045218</td>\n",
              "      <td>The Mummies of Urumchi</td>\n",
              "      <td>E. J. W. Barber</td>\n",
              "      <td>1999</td>\n",
              "      <td>W. W. Norton &amp;amp; Company</td>\n",
              "      <td>http://images.amazon.com/images/P/0393045218.0...</td>\n",
              "      <td>http://images.amazon.com/images/P/0393045218.0...</td>\n",
              "      <td>http://images.amazon.com/images/P/0393045218.0...</td>\n",
              "    </tr>\n",
              "  </tbody>\n",
              "</table>\n",
              "</div>"
            ],
            "text/plain": [
              "         ISBN                                         Book-Title  \\\n",
              "0  0195153448                                Classical Mythology   \n",
              "1  0002005018                                       Clara Callan   \n",
              "2  0060973129                               Decision in Normandy   \n",
              "3  0374157065  Flu: The Story of the Great Influenza Pandemic...   \n",
              "4  0393045218                             The Mummies of Urumchi   \n",
              "\n",
              "            Book-Author Year-Of-Publication                   Publisher  \\\n",
              "0    Mark P. O. Morford                2002     Oxford University Press   \n",
              "1  Richard Bruce Wright                2001       HarperFlamingo Canada   \n",
              "2          Carlo D'Este                1991             HarperPerennial   \n",
              "3      Gina Bari Kolata                1999        Farrar Straus Giroux   \n",
              "4       E. J. W. Barber                1999  W. W. Norton &amp; Company   \n",
              "\n",
              "                                         Image-URL-S  \\\n",
              "0  http://images.amazon.com/images/P/0195153448.0...   \n",
              "1  http://images.amazon.com/images/P/0002005018.0...   \n",
              "2  http://images.amazon.com/images/P/0060973129.0...   \n",
              "3  http://images.amazon.com/images/P/0374157065.0...   \n",
              "4  http://images.amazon.com/images/P/0393045218.0...   \n",
              "\n",
              "                                         Image-URL-M  \\\n",
              "0  http://images.amazon.com/images/P/0195153448.0...   \n",
              "1  http://images.amazon.com/images/P/0002005018.0...   \n",
              "2  http://images.amazon.com/images/P/0060973129.0...   \n",
              "3  http://images.amazon.com/images/P/0374157065.0...   \n",
              "4  http://images.amazon.com/images/P/0393045218.0...   \n",
              "\n",
              "                                         Image-URL-L  \n",
              "0  http://images.amazon.com/images/P/0195153448.0...  \n",
              "1  http://images.amazon.com/images/P/0002005018.0...  \n",
              "2  http://images.amazon.com/images/P/0060973129.0...  \n",
              "3  http://images.amazon.com/images/P/0374157065.0...  \n",
              "4  http://images.amazon.com/images/P/0393045218.0...  "
            ]
          },
          "execution_count": 9,
          "metadata": {},
          "output_type": "execute_result"
        }
      ],
      "source": [
        "books.head()"
      ]
    },
    {
      "cell_type": "code",
      "execution_count": 10,
      "metadata": {
        "colab": {
          "base_uri": "https://localhost:8080/",
          "height": 206
        },
        "id": "moOWxPKT3SX2",
        "outputId": "fc8193ef-9874-4a85-d5d3-ec3055a4b7af"
      },
      "outputs": [
        {
          "data": {
            "text/html": [
              "<div>\n",
              "<style scoped>\n",
              "    .dataframe tbody tr th:only-of-type {\n",
              "        vertical-align: middle;\n",
              "    }\n",
              "\n",
              "    .dataframe tbody tr th {\n",
              "        vertical-align: top;\n",
              "    }\n",
              "\n",
              "    .dataframe thead th {\n",
              "        text-align: right;\n",
              "    }\n",
              "</style>\n",
              "<table border=\"1\" class=\"dataframe\">\n",
              "  <thead>\n",
              "    <tr style=\"text-align: right;\">\n",
              "      <th></th>\n",
              "      <th>User-ID</th>\n",
              "      <th>ISBN</th>\n",
              "      <th>Book-Rating</th>\n",
              "    </tr>\n",
              "  </thead>\n",
              "  <tbody>\n",
              "    <tr>\n",
              "      <th>0</th>\n",
              "      <td>276725</td>\n",
              "      <td>034545104X</td>\n",
              "      <td>0</td>\n",
              "    </tr>\n",
              "    <tr>\n",
              "      <th>1</th>\n",
              "      <td>276726</td>\n",
              "      <td>0155061224</td>\n",
              "      <td>5</td>\n",
              "    </tr>\n",
              "    <tr>\n",
              "      <th>2</th>\n",
              "      <td>276727</td>\n",
              "      <td>0446520802</td>\n",
              "      <td>0</td>\n",
              "    </tr>\n",
              "    <tr>\n",
              "      <th>3</th>\n",
              "      <td>276729</td>\n",
              "      <td>052165615X</td>\n",
              "      <td>3</td>\n",
              "    </tr>\n",
              "    <tr>\n",
              "      <th>4</th>\n",
              "      <td>276729</td>\n",
              "      <td>0521795028</td>\n",
              "      <td>6</td>\n",
              "    </tr>\n",
              "  </tbody>\n",
              "</table>\n",
              "</div>"
            ],
            "text/plain": [
              "   User-ID        ISBN  Book-Rating\n",
              "0   276725  034545104X            0\n",
              "1   276726  0155061224            5\n",
              "2   276727  0446520802            0\n",
              "3   276729  052165615X            3\n",
              "4   276729  0521795028            6"
            ]
          },
          "execution_count": 10,
          "metadata": {},
          "output_type": "execute_result"
        }
      ],
      "source": [
        "ratings.head()"
      ]
    },
    {
      "cell_type": "code",
      "execution_count": 11,
      "metadata": {
        "colab": {
          "base_uri": "https://localhost:8080/",
          "height": 206
        },
        "id": "bM6pX_zq3Uf8",
        "outputId": "59bde79d-c425-45ff-993b-eb21a3c01d74"
      },
      "outputs": [
        {
          "data": {
            "text/html": [
              "<div>\n",
              "<style scoped>\n",
              "    .dataframe tbody tr th:only-of-type {\n",
              "        vertical-align: middle;\n",
              "    }\n",
              "\n",
              "    .dataframe tbody tr th {\n",
              "        vertical-align: top;\n",
              "    }\n",
              "\n",
              "    .dataframe thead th {\n",
              "        text-align: right;\n",
              "    }\n",
              "</style>\n",
              "<table border=\"1\" class=\"dataframe\">\n",
              "  <thead>\n",
              "    <tr style=\"text-align: right;\">\n",
              "      <th></th>\n",
              "      <th>User-ID</th>\n",
              "      <th>Location</th>\n",
              "      <th>Age</th>\n",
              "    </tr>\n",
              "  </thead>\n",
              "  <tbody>\n",
              "    <tr>\n",
              "      <th>0</th>\n",
              "      <td>1</td>\n",
              "      <td>nyc, new york, usa</td>\n",
              "      <td>NaN</td>\n",
              "    </tr>\n",
              "    <tr>\n",
              "      <th>1</th>\n",
              "      <td>2</td>\n",
              "      <td>stockton, california, usa</td>\n",
              "      <td>18.0</td>\n",
              "    </tr>\n",
              "    <tr>\n",
              "      <th>2</th>\n",
              "      <td>3</td>\n",
              "      <td>moscow, yukon territory, russia</td>\n",
              "      <td>NaN</td>\n",
              "    </tr>\n",
              "    <tr>\n",
              "      <th>3</th>\n",
              "      <td>4</td>\n",
              "      <td>porto, v.n.gaia, portugal</td>\n",
              "      <td>17.0</td>\n",
              "    </tr>\n",
              "    <tr>\n",
              "      <th>4</th>\n",
              "      <td>5</td>\n",
              "      <td>farnborough, hants, united kingdom</td>\n",
              "      <td>NaN</td>\n",
              "    </tr>\n",
              "  </tbody>\n",
              "</table>\n",
              "</div>"
            ],
            "text/plain": [
              "   User-ID                            Location   Age\n",
              "0        1                  nyc, new york, usa   NaN\n",
              "1        2           stockton, california, usa  18.0\n",
              "2        3     moscow, yukon territory, russia   NaN\n",
              "3        4           porto, v.n.gaia, portugal  17.0\n",
              "4        5  farnborough, hants, united kingdom   NaN"
            ]
          },
          "execution_count": 11,
          "metadata": {},
          "output_type": "execute_result"
        }
      ],
      "source": [
        "users.head()"
      ]
    },
    {
      "cell_type": "code",
      "execution_count": 12,
      "metadata": {
        "colab": {
          "base_uri": "https://localhost:8080/"
        },
        "id": "mrGWbYL53VkE",
        "outputId": "39aad7a8-aee1-495f-cfe7-e02d1a431b96"
      },
      "outputs": [
        {
          "data": {
            "text/plain": [
              "ISBN                   0\n",
              "Book-Title             0\n",
              "Book-Author            2\n",
              "Year-Of-Publication    0\n",
              "Publisher              2\n",
              "Image-URL-S            0\n",
              "Image-URL-M            0\n",
              "Image-URL-L            3\n",
              "dtype: int64"
            ]
          },
          "execution_count": 12,
          "metadata": {},
          "output_type": "execute_result"
        }
      ],
      "source": [
        "books.isnull().sum()"
      ]
    },
    {
      "cell_type": "markdown",
      "metadata": {
        "id": "7LEKqwq19U9I"
      },
      "source": [
        "There are only a few missing values in Books"
      ]
    },
    {
      "cell_type": "code",
      "execution_count": 13,
      "metadata": {
        "colab": {
          "base_uri": "https://localhost:8080/"
        },
        "id": "iN4qQkrW9KyH",
        "outputId": "4e3fe189-82f2-46b4-fe18-4c1a7a02bbe6"
      },
      "outputs": [
        {
          "data": {
            "text/plain": [
              "User-ID          0\n",
              "Location         0\n",
              "Age         110762\n",
              "dtype: int64"
            ]
          },
          "execution_count": 13,
          "metadata": {},
          "output_type": "execute_result"
        }
      ],
      "source": [
        "users.isnull().sum()"
      ]
    },
    {
      "cell_type": "markdown",
      "metadata": {
        "id": "q9-tYWZx9Raz"
      },
      "source": [
        "Age has maximum number of missing values"
      ]
    },
    {
      "cell_type": "code",
      "execution_count": 14,
      "metadata": {
        "colab": {
          "base_uri": "https://localhost:8080/"
        },
        "id": "CBq5xHZa9Nja",
        "outputId": "966245d2-6d5b-4a2b-b4d2-a89775ac11d4"
      },
      "outputs": [
        {
          "data": {
            "text/plain": [
              "User-ID        0\n",
              "ISBN           0\n",
              "Book-Rating    0\n",
              "dtype: int64"
            ]
          },
          "execution_count": 14,
          "metadata": {},
          "output_type": "execute_result"
        }
      ],
      "source": [
        "ratings.isnull().sum()"
      ]
    },
    {
      "cell_type": "markdown",
      "metadata": {
        "id": "JRnksnPw9Zxp"
      },
      "source": [
        "Ratings has No missing values"
      ]
    },
    {
      "cell_type": "code",
      "execution_count": 15,
      "metadata": {
        "colab": {
          "base_uri": "https://localhost:8080/"
        },
        "id": "dcPSRB319OOZ",
        "outputId": "00ae3c30-c161-4e5d-d5b1-b073564e2168"
      },
      "outputs": [
        {
          "name": "stdout",
          "output_type": "stream",
          "text": [
            "<class 'pandas.core.frame.DataFrame'>\n",
            "RangeIndex: 271360 entries, 0 to 271359\n",
            "Data columns (total 8 columns):\n",
            " #   Column               Non-Null Count   Dtype \n",
            "---  ------               --------------   ----- \n",
            " 0   ISBN                 271360 non-null  object\n",
            " 1   Book-Title           271360 non-null  object\n",
            " 2   Book-Author          271358 non-null  object\n",
            " 3   Year-Of-Publication  271360 non-null  object\n",
            " 4   Publisher            271358 non-null  object\n",
            " 5   Image-URL-S          271360 non-null  object\n",
            " 6   Image-URL-M          271360 non-null  object\n",
            " 7   Image-URL-L          271357 non-null  object\n",
            "dtypes: object(8)\n",
            "memory usage: 16.6+ MB\n"
          ]
        }
      ],
      "source": [
        "books.info()"
      ]
    },
    {
      "cell_type": "code",
      "execution_count": 16,
      "metadata": {
        "colab": {
          "base_uri": "https://localhost:8080/"
        },
        "id": "aHNek7f29vFR",
        "outputId": "a81fe9e1-97a1-4206-81fc-85a228d5c171"
      },
      "outputs": [
        {
          "name": "stdout",
          "output_type": "stream",
          "text": [
            "<class 'pandas.core.frame.DataFrame'>\n",
            "RangeIndex: 278858 entries, 0 to 278857\n",
            "Data columns (total 3 columns):\n",
            " #   Column    Non-Null Count   Dtype  \n",
            "---  ------    --------------   -----  \n",
            " 0   User-ID   278858 non-null  int64  \n",
            " 1   Location  278858 non-null  object \n",
            " 2   Age       168096 non-null  float64\n",
            "dtypes: float64(1), int64(1), object(1)\n",
            "memory usage: 6.4+ MB\n"
          ]
        }
      ],
      "source": [
        "users.info()"
      ]
    },
    {
      "cell_type": "code",
      "execution_count": 17,
      "metadata": {
        "colab": {
          "base_uri": "https://localhost:8080/"
        },
        "id": "XYiACwjP90N8",
        "outputId": "7132283a-6636-4b69-fa88-8359f10d455e"
      },
      "outputs": [
        {
          "name": "stdout",
          "output_type": "stream",
          "text": [
            "<class 'pandas.core.frame.DataFrame'>\n",
            "RangeIndex: 1149780 entries, 0 to 1149779\n",
            "Data columns (total 3 columns):\n",
            " #   Column       Non-Null Count    Dtype \n",
            "---  ------       --------------    ----- \n",
            " 0   User-ID      1149780 non-null  int64 \n",
            " 1   ISBN         1149780 non-null  object\n",
            " 2   Book-Rating  1149780 non-null  int64 \n",
            "dtypes: int64(2), object(1)\n",
            "memory usage: 26.3+ MB\n"
          ]
        }
      ],
      "source": [
        "ratings.info()"
      ]
    },
    {
      "cell_type": "markdown",
      "metadata": {
        "id": "cSRd0ak_-QXy"
      },
      "source": [
        "Check for unique values in all datasets"
      ]
    },
    {
      "cell_type": "code",
      "execution_count": 18,
      "metadata": {
        "colab": {
          "base_uri": "https://localhost:8080/"
        },
        "id": "4dg5Fsxr92EQ",
        "outputId": "183c8526-2811-4211-8ace-df0893ce2a3d"
      },
      "outputs": [
        {
          "data": {
            "text/plain": [
              "ISBN                   271360\n",
              "Book-Title             242135\n",
              "Book-Author            102022\n",
              "Year-Of-Publication       202\n",
              "Publisher               16807\n",
              "Image-URL-S            271044\n",
              "Image-URL-M            271044\n",
              "Image-URL-L            271041\n",
              "dtype: int64"
            ]
          },
          "execution_count": 18,
          "metadata": {},
          "output_type": "execute_result"
        }
      ],
      "source": [
        "books.nunique()"
      ]
    },
    {
      "cell_type": "code",
      "execution_count": 19,
      "metadata": {
        "colab": {
          "base_uri": "https://localhost:8080/"
        },
        "id": "KjFlgMP1-XE_",
        "outputId": "f2491c2d-9035-4393-ac28-136c97ca1003"
      },
      "outputs": [
        {
          "data": {
            "text/plain": [
              "User-ID     278858\n",
              "Location     57339\n",
              "Age            165\n",
              "dtype: int64"
            ]
          },
          "execution_count": 19,
          "metadata": {},
          "output_type": "execute_result"
        }
      ],
      "source": [
        "users.nunique()"
      ]
    },
    {
      "cell_type": "code",
      "execution_count": 20,
      "metadata": {
        "colab": {
          "base_uri": "https://localhost:8080/"
        },
        "id": "jrWxd3rL-YmM",
        "outputId": "4b42cbd6-c800-4e1c-ccfd-476ce3bad0be"
      },
      "outputs": [
        {
          "data": {
            "text/plain": [
              "User-ID        105283\n",
              "ISBN           340556\n",
              "Book-Rating        11\n",
              "dtype: int64"
            ]
          },
          "execution_count": 20,
          "metadata": {},
          "output_type": "execute_result"
        }
      ],
      "source": [
        "ratings.nunique()"
      ]
    },
    {
      "cell_type": "markdown",
      "metadata": {
        "id": "azwCFJ12_Mai"
      },
      "source": [
        "**Check the top 20 years for books**\n",
        "<br>\n",
        "We can see that in 2002 most books were published"
      ]
    },
    {
      "cell_type": "code",
      "execution_count": 22,
      "metadata": {
        "colab": {
          "base_uri": "https://localhost:8080/",
          "height": 500
        },
        "id": "m7VeEX3J-Z_N",
        "outputId": "824b8c74-5caf-45ff-a73e-9d6efecc35d0"
      },
      "outputs": [
        {
          "data": {
            "image/png": "[encoded data removed]",
            "text/plain": [
              "<Figure size 640x480 with 1 Axes>"
            ]
          },
          "metadata": {},
          "output_type": "display_data"
        }
      ],
      "source": [
        "top_year_books = books['Year-Of-Publication'].value_counts().head(20)\n",
        "sns.barplot(x=top_year_books.index, y= top_year_books.values,palette='bone')\n",
        "plt.title('Top 20 years for books', fontsize=16)\n",
        "plt.xlabel('Year of Publication', fontsize=14)\n",
        "plt.ylabel('Count', fontsize=14)\n",
        "plt.xticks(rotation=45, ha='right')\n",
        "plt.show()"
      ]
    },
    {
      "cell_type": "markdown",
      "metadata": {
        "id": "YmmTIl7iBLRW"
      },
      "source": [
        "**Check Top 20 Authors**\n",
        "<br>\n",
        "Agatha Christie is the top author with over 600 books published\n",
        "<br>\n",
        "William Shakespeare is on second with other prominent authors among them like Stephen King, Jane Austen\n",
        "\n"
      ]
    },
    {
      "cell_type": "code",
      "execution_count": 24,
      "metadata": {
        "colab": {
          "base_uri": "https://localhost:8080/"
        },
        "id": "9BkQpOalEtOV",
        "outputId": "2cdda702-9314-4771-86dc-6a8d33feb6c8"
      },
      "outputs": [
        {
          "data": {
            "text/plain": [
              "Book-Author\n",
              "Agatha Christie          632\n",
              "William Shakespeare      567\n",
              "Stephen King             524\n",
              "Ann M. Martin            423\n",
              "Carolyn Keene            373\n",
              "Francine Pascal          372\n",
              "Isaac Asimov             330\n",
              "Nora Roberts             315\n",
              "Barbara Cartland         307\n",
              "Charles Dickens          302\n",
              "Not Applicable (Na )     286\n",
              "R. L. Stine              282\n",
              "Mark Twain               231\n",
              "Jane Austen              223\n",
              "Terry Pratchett          220\n",
              "Mary Higgins Clark       218\n",
              "Piers Anthony            217\n",
              "Marion Zimmer Bradley    216\n",
              "Janet Dailey             214\n",
              "Franklin W. Dixon        204\n",
              "Name: count, dtype: int64"
            ]
          },
          "execution_count": 24,
          "metadata": {},
          "output_type": "execute_result"
        }
      ],
      "source": [
        "top_author_books = books['Book-Author'].value_counts().head(20)\n",
        "top_author_books"
      ]
    },
    {
      "cell_type": "markdown",
      "metadata": {
        "id": "Y8sgFtqGE8Og"
      },
      "source": [
        "There are some Not applicable Authors, so we will remove them"
      ]
    },
    {
      "cell_type": "code",
      "execution_count": 25,
      "metadata": {
        "colab": {
          "base_uri": "https://localhost:8080/"
        },
        "id": "pOWM8fEAFCOO",
        "outputId": "95681a8e-e9e6-4779-f0e9-fff1a9fa46b1"
      },
      "outputs": [
        {
          "data": {
            "text/plain": [
              "Book-Author\n",
              "Agatha Christie          632\n",
              "William Shakespeare      567\n",
              "Stephen King             524\n",
              "Ann M. Martin            423\n",
              "Carolyn Keene            373\n",
              "Francine Pascal          372\n",
              "Isaac Asimov             330\n",
              "Nora Roberts             315\n",
              "Barbara Cartland         307\n",
              "Charles Dickens          302\n",
              "R. L. Stine              282\n",
              "Mark Twain               231\n",
              "Jane Austen              223\n",
              "Terry Pratchett          220\n",
              "Mary Higgins Clark       218\n",
              "Piers Anthony            217\n",
              "Marion Zimmer Bradley    216\n",
              "Janet Dailey             214\n",
              "Franklin W. Dixon        204\n",
              "Roald Dahl               195\n",
              "Name: count, dtype: int64"
            ]
          },
          "execution_count": 25,
          "metadata": {},
          "output_type": "execute_result"
        }
      ],
      "source": [
        "author_books = books[books['Book-Author'] != 'Not Applicable (Na )']\n",
        "top_author_books = author_books['Book-Author'].value_counts().head(20)\n",
        "top_author_books"
      ]
    },
    {
      "cell_type": "code",
      "execution_count": 26,
      "metadata": {
        "colab": {
          "base_uri": "https://localhost:8080/",
          "height": 609
        },
        "id": "T344HTcCAnJ2",
        "outputId": "3ab895b4-5d32-4cb8-b18e-d5257ac4d051"
      },
      "outputs": [
        {
          "data": {
            "image/png": "[encoded data removed]",
            "text/plain": [
              "<Figure size 640x480 with 1 Axes>"
            ]
          },
          "metadata": {},
          "output_type": "display_data"
        },
        {
          "data": {
            "text/plain": [
              "<Figure size 800x800 with 0 Axes>"
            ]
          },
          "metadata": {},
          "output_type": "display_data"
        }
      ],
      "source": [
        "sns.barplot(x=top_author_books.index, y= top_author_books.values,palette='Dark2')\n",
        "plt.title('Top 20 Authors', fontsize=16)\n",
        "plt.xlabel('Authors', fontsize=14)\n",
        "plt.ylabel('Count', fontsize=14)\n",
        "plt.xticks(rotation=45, ha='right')\n",
        "plt.figure(figsize=(8, 8))\n",
        "plt.show()"
      ]
    },
    {
      "cell_type": "markdown",
      "metadata": {
        "id": "VuHQAu_RDRfR"
      },
      "source": [
        "**Top 20 publishers who published**\n",
        "<br>\n",
        "Harlequin Publishers have published the most books"
      ]
    },
    {
      "cell_type": "code",
      "execution_count": 27,
      "metadata": {
        "colab": {
          "base_uri": "https://localhost:8080/"
        },
        "id": "QxytsGW4ByCX",
        "outputId": "29abebda-38a4-4a08-955c-0a581463c56f"
      },
      "outputs": [
        {
          "data": {
            "text/plain": [
              "Publisher\n",
              "Harlequin                   7535\n",
              "Silhouette                  4220\n",
              "Pocket                      3905\n",
              "Ballantine Books            3782\n",
              "Bantam Books                3646\n",
              "Scholastic                  3159\n",
              "Simon &amp; Schuster        2968\n",
              "Penguin Books               2844\n",
              "Berkley Publishing Group    2770\n",
              "Warner Books                2727\n",
              "Penguin USA                 2715\n",
              "Harpercollins               2523\n",
              "Fawcett Books               2258\n",
              "Signet Book                 2070\n",
              "Random House Inc            2041\n",
              "St Martins Pr               1952\n",
              "St. Martin's Press          1783\n",
              "Tor Books                   1704\n",
              "HarperCollins Publishers    1700\n",
              "Zebra Books                 1694\n",
              "Name: count, dtype: int64"
            ]
          },
          "execution_count": 27,
          "metadata": {},
          "output_type": "execute_result"
        }
      ],
      "source": [
        "top_publisher_books = author_books['Publisher'].value_counts().head(20)\n",
        "top_publisher_books"
      ]
    },
    {
      "cell_type": "code",
      "execution_count": 28,
      "metadata": {
        "colab": {
          "base_uri": "https://localhost:8080/",
          "height": 616
        },
        "id": "H3c2l_nDF4SH",
        "outputId": "4f1cfa19-d5c5-4c68-c9c9-b13de42c1c2e"
      },
      "outputs": [
        {
          "data": {
            "image/png": "[encoded data removed]",
            "text/plain": [
              "<Figure size 640x480 with 1 Axes>"
            ]
          },
          "metadata": {},
          "output_type": "display_data"
        },
        {
          "data": {
            "text/plain": [
              "<Figure size 800x800 with 0 Axes>"
            ]
          },
          "metadata": {},
          "output_type": "display_data"
        }
      ],
      "source": [
        "sns.barplot(x=top_publisher_books.index, y= top_publisher_books.values,palette='RdYlGn')\n",
        "plt.title('Top 20 Publishers', fontsize=16)\n",
        "plt.xlabel('Publishers', fontsize=14)\n",
        "plt.ylabel('Count', fontsize=14)\n",
        "plt.xticks(rotation=45, ha='right')\n",
        "plt.figure(figsize=(8, 8))\n",
        "plt.show()"
      ]
    },
    {
      "cell_type": "markdown",
      "metadata": {
        "id": "G4UqsfuNNz_2"
      },
      "source": [
        "# Popularity Based Recommender"
      ]
    },
    {
      "cell_type": "code",
      "execution_count": 37,
      "metadata": {
        "id": "xcdu9i2roVuC"
      },
      "outputs": [],
      "source": [
        "rating_book_name = ratings.merge(books,on='ISBN')"
      ]
    },
    {
      "cell_type": "code",
      "execution_count": 30,
      "metadata": {
        "colab": {
          "base_uri": "https://localhost:8080/",
          "height": 423
        },
        "id": "x8IpgoIXIo_X",
        "outputId": "196cf9bb-a6ea-431a-a17d-a0231edd1866"
      },
      "outputs": [
        {
          "data": {
            "text/html": [
              "<div>\n",
              "<style scoped>\n",
              "    .dataframe tbody tr th:only-of-type {\n",
              "        vertical-align: middle;\n",
              "    }\n",
              "\n",
              "    .dataframe tbody tr th {\n",
              "        vertical-align: top;\n",
              "    }\n",
              "\n",
              "    .dataframe thead th {\n",
              "        text-align: right;\n",
              "    }\n",
              "</style>\n",
              "<table border=\"1\" class=\"dataframe\">\n",
              "  <thead>\n",
              "    <tr style=\"text-align: right;\">\n",
              "      <th></th>\n",
              "      <th>Book-Title</th>\n",
              "      <th>num_of_ratings</th>\n",
              "    </tr>\n",
              "  </thead>\n",
              "  <tbody>\n",
              "    <tr>\n",
              "      <th>0</th>\n",
              "      <td>A Light in the Storm: The Civil War Diary of ...</td>\n",
              "      <td>4</td>\n",
              "    </tr>\n",
              "    <tr>\n",
              "      <th>1</th>\n",
              "      <td>Always Have Popsicles</td>\n",
              "      <td>1</td>\n",
              "    </tr>\n",
              "    <tr>\n",
              "      <th>2</th>\n",
              "      <td>Apple Magic (The Collector's series)</td>\n",
              "      <td>1</td>\n",
              "    </tr>\n",
              "    <tr>\n",
              "      <th>3</th>\n",
              "      <td>Ask Lily (Young Women of Faith: Lily Series, ...</td>\n",
              "      <td>1</td>\n",
              "    </tr>\n",
              "    <tr>\n",
              "      <th>4</th>\n",
              "      <td>Beyond IBM: Leadership Marketing and Finance ...</td>\n",
              "      <td>1</td>\n",
              "    </tr>\n",
              "    <tr>\n",
              "      <th>...</th>\n",
              "      <td>...</td>\n",
              "      <td>...</td>\n",
              "    </tr>\n",
              "    <tr>\n",
              "      <th>241066</th>\n",
              "      <td>Ã?Â?lpiraten.</td>\n",
              "      <td>2</td>\n",
              "    </tr>\n",
              "    <tr>\n",
              "      <th>241067</th>\n",
              "      <td>Ã?Â?rger mit Produkt X. Roman.</td>\n",
              "      <td>4</td>\n",
              "    </tr>\n",
              "    <tr>\n",
              "      <th>241068</th>\n",
              "      <td>Ã?Â?sterlich leben.</td>\n",
              "      <td>1</td>\n",
              "    </tr>\n",
              "    <tr>\n",
              "      <th>241069</th>\n",
              "      <td>Ã?Â?stlich der Berge.</td>\n",
              "      <td>3</td>\n",
              "    </tr>\n",
              "    <tr>\n",
              "      <th>241070</th>\n",
              "      <td>Ã?Â?thique en toc</td>\n",
              "      <td>2</td>\n",
              "    </tr>\n",
              "  </tbody>\n",
              "</table>\n",
              "<p>241071 rows × 2 columns</p>\n",
              "</div>"
            ],
            "text/plain": [
              "                                               Book-Title  num_of_ratings\n",
              "0        A Light in the Storm: The Civil War Diary of ...               4\n",
              "1                                   Always Have Popsicles               1\n",
              "2                    Apple Magic (The Collector's series)               1\n",
              "3        Ask Lily (Young Women of Faith: Lily Series, ...               1\n",
              "4        Beyond IBM: Leadership Marketing and Finance ...               1\n",
              "...                                                   ...             ...\n",
              "241066                                      Ã?Â?lpiraten.               2\n",
              "241067                     Ã?Â?rger mit Produkt X. Roman.               4\n",
              "241068                                Ã?Â?sterlich leben.               1\n",
              "241069                              Ã?Â?stlich der Berge.               3\n",
              "241070                                  Ã?Â?thique en toc               2\n",
              "\n",
              "[241071 rows x 2 columns]"
            ]
          },
          "execution_count": 30,
          "metadata": {},
          "output_type": "execute_result"
        }
      ],
      "source": [
        "num_of_rating_df = rating_book_name.groupby('Book-Title').count()['Book-Rating'].reset_index()\n",
        "num_of_rating_df.rename(columns={'Book-Rating':'num_of_ratings'},inplace=True)\n",
        "num_of_rating_df"
      ]
    },
    {
      "cell_type": "code",
      "execution_count": 52,
      "metadata": {
        "colab": {
          "base_uri": "https://localhost:8080/",
          "height": 423
        },
        "id": "0gPGuzdDOJei",
        "outputId": "131016b7-a2d3-4d42-a54a-4839e88205e9"
      },
      "outputs": [
        {
          "data": {
            "text/html": [
              "<div>\n",
              "<style scoped>\n",
              "    .dataframe tbody tr th:only-of-type {\n",
              "        vertical-align: middle;\n",
              "    }\n",
              "\n",
              "    .dataframe tbody tr th {\n",
              "        vertical-align: top;\n",
              "    }\n",
              "\n",
              "    .dataframe thead th {\n",
              "        text-align: right;\n",
              "    }\n",
              "</style>\n",
              "<table border=\"1\" class=\"dataframe\">\n",
              "  <thead>\n",
              "    <tr style=\"text-align: right;\">\n",
              "      <th></th>\n",
              "      <th>Book-Title</th>\n",
              "      <th>avg_rating</th>\n",
              "    </tr>\n",
              "  </thead>\n",
              "  <tbody>\n",
              "    <tr>\n",
              "      <th>0</th>\n",
              "      <td>A Light in the Storm: The Civil War Diary of ...</td>\n",
              "      <td>2.250000</td>\n",
              "    </tr>\n",
              "    <tr>\n",
              "      <th>1</th>\n",
              "      <td>Always Have Popsicles</td>\n",
              "      <td>0.000000</td>\n",
              "    </tr>\n",
              "    <tr>\n",
              "      <th>2</th>\n",
              "      <td>Apple Magic (The Collector's series)</td>\n",
              "      <td>0.000000</td>\n",
              "    </tr>\n",
              "    <tr>\n",
              "      <th>3</th>\n",
              "      <td>Ask Lily (Young Women of Faith: Lily Series, ...</td>\n",
              "      <td>8.000000</td>\n",
              "    </tr>\n",
              "    <tr>\n",
              "      <th>4</th>\n",
              "      <td>Beyond IBM: Leadership Marketing and Finance ...</td>\n",
              "      <td>0.000000</td>\n",
              "    </tr>\n",
              "    <tr>\n",
              "      <th>...</th>\n",
              "      <td>...</td>\n",
              "      <td>...</td>\n",
              "    </tr>\n",
              "    <tr>\n",
              "      <th>241066</th>\n",
              "      <td>Ã?Â?lpiraten.</td>\n",
              "      <td>0.000000</td>\n",
              "    </tr>\n",
              "    <tr>\n",
              "      <th>241067</th>\n",
              "      <td>Ã?Â?rger mit Produkt X. Roman.</td>\n",
              "      <td>5.250000</td>\n",
              "    </tr>\n",
              "    <tr>\n",
              "      <th>241068</th>\n",
              "      <td>Ã?Â?sterlich leben.</td>\n",
              "      <td>7.000000</td>\n",
              "    </tr>\n",
              "    <tr>\n",
              "      <th>241069</th>\n",
              "      <td>Ã?Â?stlich der Berge.</td>\n",
              "      <td>2.666667</td>\n",
              "    </tr>\n",
              "    <tr>\n",
              "      <th>241070</th>\n",
              "      <td>Ã?Â?thique en toc</td>\n",
              "      <td>4.000000</td>\n",
              "    </tr>\n",
              "  </tbody>\n",
              "</table>\n",
              "<p>241071 rows × 2 columns</p>\n",
              "</div>"
            ],
            "text/plain": [
              "                                               Book-Title  avg_rating\n",
              "0        A Light in the Storm: The Civil War Diary of ...    2.250000\n",
              "1                                   Always Have Popsicles    0.000000\n",
              "2                    Apple Magic (The Collector's series)    0.000000\n",
              "3        Ask Lily (Young Women of Faith: Lily Series, ...    8.000000\n",
              "4        Beyond IBM: Leadership Marketing and Finance ...    0.000000\n",
              "...                                                   ...         ...\n",
              "241066                                      Ã?Â?lpiraten.    0.000000\n",
              "241067                     Ã?Â?rger mit Produkt X. Roman.    5.250000\n",
              "241068                                Ã?Â?sterlich leben.    7.000000\n",
              "241069                              Ã?Â?stlich der Berge.    2.666667\n",
              "241070                                  Ã?Â?thique en toc    4.000000\n",
              "\n",
              "[241071 rows x 2 columns]"
            ]
          },
          "execution_count": 52,
          "metadata": {},
          "output_type": "execute_result"
        }
      ],
      "source": [
        "avg_rating_df = rating_book_name.groupby('Book-Title').mean(numeric_only=True)['Book-Rating'].reset_index()\n",
        "avg_rating_df.rename(columns={'Book-Rating':'avg_rating'},inplace=True)\n",
        "avg_rating_df"
      ]
    },
    {
      "cell_type": "code",
      "execution_count": 53,
      "metadata": {
        "colab": {
          "base_uri": "https://localhost:8080/",
          "height": 423
        },
        "id": "4iv524xaQXOn",
        "outputId": "73f2ed8a-56ab-4ad8-9fef-3044349212da"
      },
      "outputs": [
        {
          "data": {
            "text/html": [
              "<div>\n",
              "<style scoped>\n",
              "    .dataframe tbody tr th:only-of-type {\n",
              "        vertical-align: middle;\n",
              "    }\n",
              "\n",
              "    .dataframe tbody tr th {\n",
              "        vertical-align: top;\n",
              "    }\n",
              "\n",
              "    .dataframe thead th {\n",
              "        text-align: right;\n",
              "    }\n",
              "</style>\n",
              "<table border=\"1\" class=\"dataframe\">\n",
              "  <thead>\n",
              "    <tr style=\"text-align: right;\">\n",
              "      <th></th>\n",
              "      <th>Book-Title</th>\n",
              "      <th>num_of_ratings</th>\n",
              "      <th>avg_rating</th>\n",
              "    </tr>\n",
              "  </thead>\n",
              "  <tbody>\n",
              "    <tr>\n",
              "      <th>0</th>\n",
              "      <td>A Light in the Storm: The Civil War Diary of ...</td>\n",
              "      <td>4</td>\n",
              "      <td>2.250000</td>\n",
              "    </tr>\n",
              "    <tr>\n",
              "      <th>1</th>\n",
              "      <td>Always Have Popsicles</td>\n",
              "      <td>1</td>\n",
              "      <td>0.000000</td>\n",
              "    </tr>\n",
              "    <tr>\n",
              "      <th>2</th>\n",
              "      <td>Apple Magic (The Collector's series)</td>\n",
              "      <td>1</td>\n",
              "      <td>0.000000</td>\n",
              "    </tr>\n",
              "    <tr>\n",
              "      <th>3</th>\n",
              "      <td>Ask Lily (Young Women of Faith: Lily Series, ...</td>\n",
              "      <td>1</td>\n",
              "      <td>8.000000</td>\n",
              "    </tr>\n",
              "    <tr>\n",
              "      <th>4</th>\n",
              "      <td>Beyond IBM: Leadership Marketing and Finance ...</td>\n",
              "      <td>1</td>\n",
              "      <td>0.000000</td>\n",
              "    </tr>\n",
              "    <tr>\n",
              "      <th>...</th>\n",
              "      <td>...</td>\n",
              "      <td>...</td>\n",
              "      <td>...</td>\n",
              "    </tr>\n",
              "    <tr>\n",
              "      <th>241066</th>\n",
              "      <td>Ã?Â?lpiraten.</td>\n",
              "      <td>2</td>\n",
              "      <td>0.000000</td>\n",
              "    </tr>\n",
              "    <tr>\n",
              "      <th>241067</th>\n",
              "      <td>Ã?Â?rger mit Produkt X. Roman.</td>\n",
              "      <td>4</td>\n",
              "      <td>5.250000</td>\n",
              "    </tr>\n",
              "    <tr>\n",
              "      <th>241068</th>\n",
              "      <td>Ã?Â?sterlich leben.</td>\n",
              "      <td>1</td>\n",
              "      <td>7.000000</td>\n",
              "    </tr>\n",
              "    <tr>\n",
              "      <th>241069</th>\n",
              "      <td>Ã?Â?stlich der Berge.</td>\n",
              "      <td>3</td>\n",
              "      <td>2.666667</td>\n",
              "    </tr>\n",
              "    <tr>\n",
              "      <th>241070</th>\n",
              "      <td>Ã?Â?thique en toc</td>\n",
              "      <td>2</td>\n",
              "      <td>4.000000</td>\n",
              "    </tr>\n",
              "  </tbody>\n",
              "</table>\n",
              "<p>241071 rows × 3 columns</p>\n",
              "</div>"
            ],
            "text/plain": [
              "                                               Book-Title  num_of_ratings  \\\n",
              "0        A Light in the Storm: The Civil War Diary of ...               4   \n",
              "1                                   Always Have Popsicles               1   \n",
              "2                    Apple Magic (The Collector's series)               1   \n",
              "3        Ask Lily (Young Women of Faith: Lily Series, ...               1   \n",
              "4        Beyond IBM: Leadership Marketing and Finance ...               1   \n",
              "...                                                   ...             ...   \n",
              "241066                                      Ã?Â?lpiraten.               2   \n",
              "241067                     Ã?Â?rger mit Produkt X. Roman.               4   \n",
              "241068                                Ã?Â?sterlich leben.               1   \n",
              "241069                              Ã?Â?stlich der Berge.               3   \n",
              "241070                                  Ã?Â?thique en toc               2   \n",
              "\n",
              "        avg_rating  \n",
              "0         2.250000  \n",
              "1         0.000000  \n",
              "2         0.000000  \n",
              "3         8.000000  \n",
              "4         0.000000  \n",
              "...            ...  \n",
              "241066    0.000000  \n",
              "241067    5.250000  \n",
              "241068    7.000000  \n",
              "241069    2.666667  \n",
              "241070    4.000000  \n",
              "\n",
              "[241071 rows x 3 columns]"
            ]
          },
          "execution_count": 53,
          "metadata": {},
          "output_type": "execute_result"
        }
      ],
      "source": [
        "popular_df = num_of_rating_df.merge(avg_rating_df,on='Book-Title')\n",
        "popular_df"
      ]
    },
    {
      "cell_type": "markdown",
      "metadata": {
        "id": "zY6oHitIQ1SG"
      },
      "source": [
        "To filter these Popular books, I took only those books which has more than 250 rating and from those only top 50 books to build popularity0-based recommender"
      ]
    },
    {
      "cell_type": "code",
      "execution_count": 54,
      "metadata": {
        "id": "EwtLAdulQqMU"
      },
      "outputs": [],
      "source": [
        "popularity_recommender = popular_df[popular_df['num_of_ratings']>=250].sort_values('avg_rating',ascending=False).head(50)"
      ]
    },
    {
      "cell_type": "code",
      "execution_count": 55,
      "metadata": {
        "id": "FpS_GsBGRFQ2"
      },
      "outputs": [],
      "source": [
        "# Since there are duplicates in book titles too, so need to drop them and take only relevant columns\n",
        "popularity_recommender = popularity_recommender.merge(books,on='Book-Title').drop_duplicates('Book-Title')[['Book-Title','Book-Author','Year-Of-Publication','Image-URL-M','num_of_ratings','avg_rating' ]]"
      ]
    },
    {
      "cell_type": "markdown",
      "metadata": {
        "id": "MaX76q_WR_Lm"
      },
      "source": [
        "We can see that Harry Potter books are the most popular based on our recommender, followed by Lord of the rings series"
      ]
    },
    {
      "cell_type": "code",
      "execution_count": 56,
      "metadata": {
        "colab": {
          "base_uri": "https://localhost:8080/",
          "height": 1000
        },
        "id": "DGdousOBR5fC",
        "outputId": "252d374d-6924-4e33-b08e-7ed052f1d683"
      },
      "outputs": [
        {
          "data": {
            "text/html": [
              "<div>\n",
              "<style scoped>\n",
              "    .dataframe tbody tr th:only-of-type {\n",
              "        vertical-align: middle;\n",
              "    }\n",
              "\n",
              "    .dataframe tbody tr th {\n",
              "        vertical-align: top;\n",
              "    }\n",
              "\n",
              "    .dataframe thead th {\n",
              "        text-align: right;\n",
              "    }\n",
              "</style>\n",
              "<table border=\"1\" class=\"dataframe\">\n",
              "  <thead>\n",
              "    <tr style=\"text-align: right;\">\n",
              "      <th></th>\n",
              "      <th>Book-Title</th>\n",
              "      <th>Book-Author</th>\n",
              "      <th>Year-Of-Publication</th>\n",
              "      <th>Image-URL-M</th>\n",
              "      <th>num_of_ratings</th>\n",
              "      <th>avg_rating</th>\n",
              "    </tr>\n",
              "  </thead>\n",
              "  <tbody>\n",
              "    <tr>\n",
              "      <th>0</th>\n",
              "      <td>Harry Potter and the Prisoner of Azkaban (Book 3)</td>\n",
              "      <td>J. K. Rowling</td>\n",
              "      <td>1999</td>\n",
              "      <td>http://images.amazon.com/images/P/0439136350.0...</td>\n",
              "      <td>428</td>\n",
              "      <td>5.852804</td>\n",
              "    </tr>\n",
              "    <tr>\n",
              "      <th>3</th>\n",
              "      <td>Harry Potter and the Goblet of Fire (Book 4)</td>\n",
              "      <td>J. K. Rowling</td>\n",
              "      <td>2000</td>\n",
              "      <td>http://images.amazon.com/images/P/0439139597.0...</td>\n",
              "      <td>387</td>\n",
              "      <td>5.824289</td>\n",
              "    </tr>\n",
              "    <tr>\n",
              "      <th>5</th>\n",
              "      <td>Harry Potter and the Sorcerer's Stone (Book 1)</td>\n",
              "      <td>J. K. Rowling</td>\n",
              "      <td>1998</td>\n",
              "      <td>http://images.amazon.com/images/P/0590353403.0...</td>\n",
              "      <td>278</td>\n",
              "      <td>5.737410</td>\n",
              "    </tr>\n",
              "    <tr>\n",
              "      <th>9</th>\n",
              "      <td>Harry Potter and the Order of the Phoenix (Boo...</td>\n",
              "      <td>J. K. Rowling</td>\n",
              "      <td>2003</td>\n",
              "      <td>http://images.amazon.com/images/P/043935806X.0...</td>\n",
              "      <td>347</td>\n",
              "      <td>5.501441</td>\n",
              "    </tr>\n",
              "    <tr>\n",
              "      <th>13</th>\n",
              "      <td>Harry Potter and the Chamber of Secrets (Book 2)</td>\n",
              "      <td>J. K. Rowling</td>\n",
              "      <td>2000</td>\n",
              "      <td>http://images.amazon.com/images/P/0439064872.0...</td>\n",
              "      <td>556</td>\n",
              "      <td>5.183453</td>\n",
              "    </tr>\n",
              "    <tr>\n",
              "      <th>16</th>\n",
              "      <td>The Hobbit : The Enchanting Prelude to The Lor...</td>\n",
              "      <td>J.R.R. TOLKIEN</td>\n",
              "      <td>1986</td>\n",
              "      <td>http://images.amazon.com/images/P/0345339681.0...</td>\n",
              "      <td>281</td>\n",
              "      <td>5.007117</td>\n",
              "    </tr>\n",
              "    <tr>\n",
              "      <th>17</th>\n",
              "      <td>The Fellowship of the Ring (The Lord of the Ri...</td>\n",
              "      <td>J.R.R. TOLKIEN</td>\n",
              "      <td>1986</td>\n",
              "      <td>http://images.amazon.com/images/P/0345339703.0...</td>\n",
              "      <td>368</td>\n",
              "      <td>4.948370</td>\n",
              "    </tr>\n",
              "    <tr>\n",
              "      <th>26</th>\n",
              "      <td>Harry Potter and the Sorcerer's Stone (Harry P...</td>\n",
              "      <td>J. K. Rowling</td>\n",
              "      <td>1999</td>\n",
              "      <td>http://images.amazon.com/images/P/059035342X.0...</td>\n",
              "      <td>575</td>\n",
              "      <td>4.895652</td>\n",
              "    </tr>\n",
              "    <tr>\n",
              "      <th>28</th>\n",
              "      <td>The Two Towers (The Lord of the Rings, Part 2)</td>\n",
              "      <td>J.R.R. TOLKIEN</td>\n",
              "      <td>1986</td>\n",
              "      <td>http://images.amazon.com/images/P/0345339711.0...</td>\n",
              "      <td>260</td>\n",
              "      <td>4.880769</td>\n",
              "    </tr>\n",
              "    <tr>\n",
              "      <th>39</th>\n",
              "      <td>To Kill a Mockingbird</td>\n",
              "      <td>Harper Lee</td>\n",
              "      <td>1988</td>\n",
              "      <td>http://images.amazon.com/images/P/0446310786.0...</td>\n",
              "      <td>510</td>\n",
              "      <td>4.700000</td>\n",
              "    </tr>\n",
              "    <tr>\n",
              "      <th>47</th>\n",
              "      <td>The Da Vinci Code</td>\n",
              "      <td>Dan Brown</td>\n",
              "      <td>2003</td>\n",
              "      <td>http://images.amazon.com/images/P/0385504209.0...</td>\n",
              "      <td>898</td>\n",
              "      <td>4.642539</td>\n",
              "    </tr>\n",
              "    <tr>\n",
              "      <th>53</th>\n",
              "      <td>The Five People You Meet in Heaven</td>\n",
              "      <td>Mitch Albom</td>\n",
              "      <td>2003</td>\n",
              "      <td>http://images.amazon.com/images/P/0786868716.0...</td>\n",
              "      <td>430</td>\n",
              "      <td>4.551163</td>\n",
              "    </tr>\n",
              "    <tr>\n",
              "      <th>55</th>\n",
              "      <td>The Catcher in the Rye</td>\n",
              "      <td>J.D. Salinger</td>\n",
              "      <td>1991</td>\n",
              "      <td>http://images.amazon.com/images/P/0316769487.0...</td>\n",
              "      <td>449</td>\n",
              "      <td>4.545657</td>\n",
              "    </tr>\n",
              "    <tr>\n",
              "      <th>62</th>\n",
              "      <td>The Lovely Bones: A Novel</td>\n",
              "      <td>Alice Sebold</td>\n",
              "      <td>2002</td>\n",
              "      <td>http://images.amazon.com/images/P/0316666343.0...</td>\n",
              "      <td>1295</td>\n",
              "      <td>4.468726</td>\n",
              "    </tr>\n",
              "    <tr>\n",
              "      <th>63</th>\n",
              "      <td>1984</td>\n",
              "      <td>George Orwell</td>\n",
              "      <td>1990</td>\n",
              "      <td>http://images.amazon.com/images/P/0451524934.0...</td>\n",
              "      <td>284</td>\n",
              "      <td>4.454225</td>\n",
              "    </tr>\n",
              "    <tr>\n",
              "      <th>72</th>\n",
              "      <td>Prodigal Summer: A Novel</td>\n",
              "      <td>Barbara Kingsolver</td>\n",
              "      <td>2001</td>\n",
              "      <td>http://images.amazon.com/images/P/0060959037.0...</td>\n",
              "      <td>253</td>\n",
              "      <td>4.450593</td>\n",
              "    </tr>\n",
              "    <tr>\n",
              "      <th>73</th>\n",
              "      <td>Neverwhere</td>\n",
              "      <td>Neil Gaiman</td>\n",
              "      <td>1998</td>\n",
              "      <td>http://images.amazon.com/images/P/0380789019.0...</td>\n",
              "      <td>265</td>\n",
              "      <td>4.449057</td>\n",
              "    </tr>\n",
              "    <tr>\n",
              "      <th>78</th>\n",
              "      <td>The Secret Life of Bees</td>\n",
              "      <td>Sue Monk Kidd</td>\n",
              "      <td>2003</td>\n",
              "      <td>http://images.amazon.com/images/P/0142001740.0...</td>\n",
              "      <td>774</td>\n",
              "      <td>4.447028</td>\n",
              "    </tr>\n",
              "    <tr>\n",
              "      <th>84</th>\n",
              "      <td>Stupid White Men ...and Other Sorry Excuses fo...</td>\n",
              "      <td>Michael Moore</td>\n",
              "      <td>2002</td>\n",
              "      <td>http://images.amazon.com/images/P/0060392452.0...</td>\n",
              "      <td>283</td>\n",
              "      <td>4.356890</td>\n",
              "    </tr>\n",
              "    <tr>\n",
              "      <th>85</th>\n",
              "      <td>Tuesdays with Morrie: An Old Man, a Young Man,...</td>\n",
              "      <td>MITCH ALBOM</td>\n",
              "      <td>1997</td>\n",
              "      <td>http://images.amazon.com/images/P/0385484518.0...</td>\n",
              "      <td>493</td>\n",
              "      <td>4.354970</td>\n",
              "    </tr>\n",
              "    <tr>\n",
              "      <th>88</th>\n",
              "      <td>The Red Tent (Bestselling Backlist)</td>\n",
              "      <td>Anita Diamant</td>\n",
              "      <td>1998</td>\n",
              "      <td>http://images.amazon.com/images/P/0312195516.0...</td>\n",
              "      <td>723</td>\n",
              "      <td>4.334716</td>\n",
              "    </tr>\n",
              "    <tr>\n",
              "      <th>89</th>\n",
              "      <td>The Hitchhiker's Guide to the Galaxy</td>\n",
              "      <td>Douglas Adams</td>\n",
              "      <td>1982</td>\n",
              "      <td>http://images.amazon.com/images/P/0671461494.0...</td>\n",
              "      <td>268</td>\n",
              "      <td>4.328358</td>\n",
              "    </tr>\n",
              "    <tr>\n",
              "      <th>98</th>\n",
              "      <td>Nickel and Dimed: On (Not) Getting By in America</td>\n",
              "      <td>Barbara Ehrenreich</td>\n",
              "      <td>2002</td>\n",
              "      <td>http://images.amazon.com/images/P/0805063897.0...</td>\n",
              "      <td>335</td>\n",
              "      <td>4.289552</td>\n",
              "    </tr>\n",
              "    <tr>\n",
              "      <th>100</th>\n",
              "      <td>Into the Wild</td>\n",
              "      <td>Jon Krakauer</td>\n",
              "      <td>1997</td>\n",
              "      <td>http://images.amazon.com/images/P/0385486804.0...</td>\n",
              "      <td>252</td>\n",
              "      <td>4.273810</td>\n",
              "    </tr>\n",
              "    <tr>\n",
              "      <th>103</th>\n",
              "      <td>Fahrenheit 451</td>\n",
              "      <td>Ray Bradbury</td>\n",
              "      <td>1994</td>\n",
              "      <td>http://images.amazon.com/images/P/3257208626.0...</td>\n",
              "      <td>409</td>\n",
              "      <td>4.264059</td>\n",
              "    </tr>\n",
              "    <tr>\n",
              "      <th>116</th>\n",
              "      <td>Girl with a Pearl Earring</td>\n",
              "      <td>Tracy Chevalier</td>\n",
              "      <td>2001</td>\n",
              "      <td>http://images.amazon.com/images/P/0452282152.0...</td>\n",
              "      <td>526</td>\n",
              "      <td>4.218631</td>\n",
              "    </tr>\n",
              "    <tr>\n",
              "      <th>117</th>\n",
              "      <td>Outlander</td>\n",
              "      <td>DIANA GABALDON</td>\n",
              "      <td>1996</td>\n",
              "      <td>http://images.amazon.com/images/P/0440222915.0...</td>\n",
              "      <td>283</td>\n",
              "      <td>4.173145</td>\n",
              "    </tr>\n",
              "    <tr>\n",
              "      <th>123</th>\n",
              "      <td>Where the Heart Is (Oprah's Book Club (Paperba...</td>\n",
              "      <td>Billie Letts</td>\n",
              "      <td>1998</td>\n",
              "      <td>http://images.amazon.com/images/P/0446672211.0...</td>\n",
              "      <td>585</td>\n",
              "      <td>4.105983</td>\n",
              "    </tr>\n",
              "    <tr>\n",
              "      <th>124</th>\n",
              "      <td>Seabiscuit: An American Legend</td>\n",
              "      <td>LAURA HILLENBRAND</td>\n",
              "      <td>2002</td>\n",
              "      <td>http://images.amazon.com/images/P/0449005615.0...</td>\n",
              "      <td>275</td>\n",
              "      <td>4.098182</td>\n",
              "    </tr>\n",
              "    <tr>\n",
              "      <th>126</th>\n",
              "      <td>Life of Pi</td>\n",
              "      <td>Yann Martel</td>\n",
              "      <td>2002</td>\n",
              "      <td>http://images.amazon.com/images/P/0151008116.0...</td>\n",
              "      <td>664</td>\n",
              "      <td>4.088855</td>\n",
              "    </tr>\n",
              "    <tr>\n",
              "      <th>130</th>\n",
              "      <td>The Bean Trees</td>\n",
              "      <td>Barbara Kingsolver</td>\n",
              "      <td>1989</td>\n",
              "      <td>http://images.amazon.com/images/P/0060915544.0...</td>\n",
              "      <td>389</td>\n",
              "      <td>4.087404</td>\n",
              "    </tr>\n",
              "    <tr>\n",
              "      <th>133</th>\n",
              "      <td>A Child Called \\It\\\": One Child's Courage to S...</td>\n",
              "      <td>Dave Pelzer</td>\n",
              "      <td>1995</td>\n",
              "      <td>http://images.amazon.com/images/P/1558743669.0...</td>\n",
              "      <td>265</td>\n",
              "      <td>4.086792</td>\n",
              "    </tr>\n",
              "    <tr>\n",
              "      <th>135</th>\n",
              "      <td>ANGELA'S ASHES</td>\n",
              "      <td>Frank McCourt</td>\n",
              "      <td>1996</td>\n",
              "      <td>http://images.amazon.com/images/P/0684874350.0...</td>\n",
              "      <td>279</td>\n",
              "      <td>4.075269</td>\n",
              "    </tr>\n",
              "    <tr>\n",
              "      <th>137</th>\n",
              "      <td>Good in Bed</td>\n",
              "      <td>Jennifer Weiner</td>\n",
              "      <td>2002</td>\n",
              "      <td>http://images.amazon.com/images/P/0743418174.0...</td>\n",
              "      <td>490</td>\n",
              "      <td>4.055102</td>\n",
              "    </tr>\n",
              "    <tr>\n",
              "      <th>139</th>\n",
              "      <td>Fast Food Nation: The Dark Side of the All-Ame...</td>\n",
              "      <td>Eric Schlosser</td>\n",
              "      <td>2002</td>\n",
              "      <td>http://images.amazon.com/images/P/0060938455.0...</td>\n",
              "      <td>321</td>\n",
              "      <td>4.037383</td>\n",
              "    </tr>\n",
              "    <tr>\n",
              "      <th>140</th>\n",
              "      <td>American Gods</td>\n",
              "      <td>Neil Gaiman</td>\n",
              "      <td>2002</td>\n",
              "      <td>http://images.amazon.com/images/P/0380789035.0...</td>\n",
              "      <td>302</td>\n",
              "      <td>4.006623</td>\n",
              "    </tr>\n",
              "    <tr>\n",
              "      <th>141</th>\n",
              "      <td>Skipping Christmas</td>\n",
              "      <td>JOHN GRISHAM</td>\n",
              "      <td>2001</td>\n",
              "      <td>http://images.amazon.com/images/P/0385505833.0...</td>\n",
              "      <td>322</td>\n",
              "      <td>4.006211</td>\n",
              "    </tr>\n",
              "    <tr>\n",
              "      <th>147</th>\n",
              "      <td>Left Behind: A Novel of the Earth's Last Days ...</td>\n",
              "      <td>Tim Lahaye</td>\n",
              "      <td>1996</td>\n",
              "      <td>http://images.amazon.com/images/P/0842329129.0...</td>\n",
              "      <td>318</td>\n",
              "      <td>4.003145</td>\n",
              "    </tr>\n",
              "    <tr>\n",
              "      <th>149</th>\n",
              "      <td>The Golden Compass (His Dark Materials, Book 1)</td>\n",
              "      <td>PHILIP PULLMAN</td>\n",
              "      <td>2002</td>\n",
              "      <td>http://images.amazon.com/images/P/037582345X.0...</td>\n",
              "      <td>336</td>\n",
              "      <td>4.000000</td>\n",
              "    </tr>\n",
              "    <tr>\n",
              "      <th>157</th>\n",
              "      <td>The Color Purple</td>\n",
              "      <td>Alice Walker</td>\n",
              "      <td>1985</td>\n",
              "      <td>http://images.amazon.com/images/P/0671617028.0...</td>\n",
              "      <td>314</td>\n",
              "      <td>3.964968</td>\n",
              "    </tr>\n",
              "    <tr>\n",
              "      <th>163</th>\n",
              "      <td>Silence of the Lambs</td>\n",
              "      <td>Thomas Harris</td>\n",
              "      <td>1991</td>\n",
              "      <td>http://images.amazon.com/images/P/0312924585.0...</td>\n",
              "      <td>256</td>\n",
              "      <td>3.960938</td>\n",
              "    </tr>\n",
              "    <tr>\n",
              "      <th>166</th>\n",
              "      <td>About a Boy</td>\n",
              "      <td>Nick Hornby</td>\n",
              "      <td>1999</td>\n",
              "      <td>http://images.amazon.com/images/P/1573227331.0...</td>\n",
              "      <td>262</td>\n",
              "      <td>3.900763</td>\n",
              "    </tr>\n",
              "    <tr>\n",
              "      <th>173</th>\n",
              "      <td>Seven Up (A Stephanie Plum Novel)</td>\n",
              "      <td>Janet Evanovich</td>\n",
              "      <td>2001</td>\n",
              "      <td>http://images.amazon.com/images/P/0312265840.0...</td>\n",
              "      <td>278</td>\n",
              "      <td>3.888489</td>\n",
              "    </tr>\n",
              "    <tr>\n",
              "      <th>175</th>\n",
              "      <td>The Alchemist: A Fable About Following Your Dream</td>\n",
              "      <td>Paulo Coelho</td>\n",
              "      <td>1993</td>\n",
              "      <td>http://images.amazon.com/images/P/0062502174.0...</td>\n",
              "      <td>266</td>\n",
              "      <td>3.875940</td>\n",
              "    </tr>\n",
              "    <tr>\n",
              "      <th>177</th>\n",
              "      <td>Hard Eight : A Stephanie Plum Novel (A Stephan...</td>\n",
              "      <td>Janet Evanovich</td>\n",
              "      <td>2003</td>\n",
              "      <td>http://images.amazon.com/images/P/0312983867.0...</td>\n",
              "      <td>269</td>\n",
              "      <td>3.825279</td>\n",
              "    </tr>\n",
              "    <tr>\n",
              "      <th>182</th>\n",
              "      <td>Suzanne's Diary for Nicholas</td>\n",
              "      <td>James Patterson</td>\n",
              "      <td>2001</td>\n",
              "      <td>http://images.amazon.com/images/P/0316969443.0...</td>\n",
              "      <td>457</td>\n",
              "      <td>3.820569</td>\n",
              "    </tr>\n",
              "    <tr>\n",
              "      <th>186</th>\n",
              "      <td>Lord of the Flies</td>\n",
              "      <td>William Gerald Golding</td>\n",
              "      <td>1959</td>\n",
              "      <td>http://images.amazon.com/images/P/0399501487.0...</td>\n",
              "      <td>259</td>\n",
              "      <td>3.818533</td>\n",
              "    </tr>\n",
              "    <tr>\n",
              "      <th>192</th>\n",
              "      <td>A Prayer for Owen Meany</td>\n",
              "      <td>John Irving</td>\n",
              "      <td>1990</td>\n",
              "      <td>http://images.amazon.com/images/P/0345361792.0...</td>\n",
              "      <td>413</td>\n",
              "      <td>3.796610</td>\n",
              "    </tr>\n",
              "    <tr>\n",
              "      <th>194</th>\n",
              "      <td>The Vampire Lestat (Vampire Chronicles, Book II)</td>\n",
              "      <td>ANNE RICE</td>\n",
              "      <td>1986</td>\n",
              "      <td>http://images.amazon.com/images/P/0345313860.0...</td>\n",
              "      <td>301</td>\n",
              "      <td>3.777409</td>\n",
              "    </tr>\n",
              "    <tr>\n",
              "      <th>195</th>\n",
              "      <td>White Oleander : A Novel (Oprah's Book Club)</td>\n",
              "      <td>Janet Fitch</td>\n",
              "      <td>2000</td>\n",
              "      <td>http://images.amazon.com/images/P/0316284955.0...</td>\n",
              "      <td>356</td>\n",
              "      <td>3.772472</td>\n",
              "    </tr>\n",
              "  </tbody>\n",
              "</table>\n",
              "</div>"
            ],
            "text/plain": [
              "                                            Book-Title  \\\n",
              "0    Harry Potter and the Prisoner of Azkaban (Book 3)   \n",
              "3         Harry Potter and the Goblet of Fire (Book 4)   \n",
              "5       Harry Potter and the Sorcerer's Stone (Book 1)   \n",
              "9    Harry Potter and the Order of the Phoenix (Boo...   \n",
              "13    Harry Potter and the Chamber of Secrets (Book 2)   \n",
              "16   The Hobbit : The Enchanting Prelude to The Lor...   \n",
              "17   The Fellowship of the Ring (The Lord of the Ri...   \n",
              "26   Harry Potter and the Sorcerer's Stone (Harry P...   \n",
              "28      The Two Towers (The Lord of the Rings, Part 2)   \n",
              "39                               To Kill a Mockingbird   \n",
              "47                                   The Da Vinci Code   \n",
              "53                  The Five People You Meet in Heaven   \n",
              "55                              The Catcher in the Rye   \n",
              "62                           The Lovely Bones: A Novel   \n",
              "63                                                1984   \n",
              "72                            Prodigal Summer: A Novel   \n",
              "73                                          Neverwhere   \n",
              "78                             The Secret Life of Bees   \n",
              "84   Stupid White Men ...and Other Sorry Excuses fo...   \n",
              "85   Tuesdays with Morrie: An Old Man, a Young Man,...   \n",
              "88                 The Red Tent (Bestselling Backlist)   \n",
              "89                The Hitchhiker's Guide to the Galaxy   \n",
              "98    Nickel and Dimed: On (Not) Getting By in America   \n",
              "100                                      Into the Wild   \n",
              "103                                     Fahrenheit 451   \n",
              "116                          Girl with a Pearl Earring   \n",
              "117                                          Outlander   \n",
              "123  Where the Heart Is (Oprah's Book Club (Paperba...   \n",
              "124                     Seabiscuit: An American Legend   \n",
              "126                                         Life of Pi   \n",
              "130                                     The Bean Trees   \n",
              "133  A Child Called \\It\\\": One Child's Courage to S...   \n",
              "135                                     ANGELA'S ASHES   \n",
              "137                                        Good in Bed   \n",
              "139  Fast Food Nation: The Dark Side of the All-Ame...   \n",
              "140                                      American Gods   \n",
              "141                                 Skipping Christmas   \n",
              "147  Left Behind: A Novel of the Earth's Last Days ...   \n",
              "149    The Golden Compass (His Dark Materials, Book 1)   \n",
              "157                                   The Color Purple   \n",
              "163                               Silence of the Lambs   \n",
              "166                                        About a Boy   \n",
              "173                  Seven Up (A Stephanie Plum Novel)   \n",
              "175  The Alchemist: A Fable About Following Your Dream   \n",
              "177  Hard Eight : A Stephanie Plum Novel (A Stephan...   \n",
              "182                       Suzanne's Diary for Nicholas   \n",
              "186                                  Lord of the Flies   \n",
              "192                            A Prayer for Owen Meany   \n",
              "194   The Vampire Lestat (Vampire Chronicles, Book II)   \n",
              "195       White Oleander : A Novel (Oprah's Book Club)   \n",
              "\n",
              "                Book-Author Year-Of-Publication  \\\n",
              "0             J. K. Rowling                1999   \n",
              "3             J. K. Rowling                2000   \n",
              "5             J. K. Rowling                1998   \n",
              "9             J. K. Rowling                2003   \n",
              "13            J. K. Rowling                2000   \n",
              "16           J.R.R. TOLKIEN                1986   \n",
              "17           J.R.R. TOLKIEN                1986   \n",
              "26            J. K. Rowling                1999   \n",
              "28           J.R.R. TOLKIEN                1986   \n",
              "39               Harper Lee                1988   \n",
              "47                Dan Brown                2003   \n",
              "53              Mitch Albom                2003   \n",
              "55            J.D. Salinger                1991   \n",
              "62             Alice Sebold                2002   \n",
              "63            George Orwell                1990   \n",
              "72       Barbara Kingsolver                2001   \n",
              "73              Neil Gaiman                1998   \n",
              "78            Sue Monk Kidd                2003   \n",
              "84            Michael Moore                2002   \n",
              "85              MITCH ALBOM                1997   \n",
              "88            Anita Diamant                1998   \n",
              "89            Douglas Adams                1982   \n",
              "98       Barbara Ehrenreich                2002   \n",
              "100            Jon Krakauer                1997   \n",
              "103            Ray Bradbury                1994   \n",
              "116         Tracy Chevalier                2001   \n",
              "117          DIANA GABALDON                1996   \n",
              "123            Billie Letts                1998   \n",
              "124       LAURA HILLENBRAND                2002   \n",
              "126             Yann Martel                2002   \n",
              "130      Barbara Kingsolver                1989   \n",
              "133             Dave Pelzer                1995   \n",
              "135           Frank McCourt                1996   \n",
              "137         Jennifer Weiner                2002   \n",
              "139          Eric Schlosser                2002   \n",
              "140             Neil Gaiman                2002   \n",
              "141            JOHN GRISHAM                2001   \n",
              "147              Tim Lahaye                1996   \n",
              "149          PHILIP PULLMAN                2002   \n",
              "157            Alice Walker                1985   \n",
              "163           Thomas Harris                1991   \n",
              "166             Nick Hornby                1999   \n",
              "173         Janet Evanovich                2001   \n",
              "175            Paulo Coelho                1993   \n",
              "177         Janet Evanovich                2003   \n",
              "182         James Patterson                2001   \n",
              "186  William Gerald Golding                1959   \n",
              "192             John Irving                1990   \n",
              "194               ANNE RICE                1986   \n",
              "195             Janet Fitch                2000   \n",
              "\n",
              "                                           Image-URL-M  num_of_ratings  \\\n",
              "0    http://images.amazon.com/images/P/0439136350.0...             428   \n",
              "3    http://images.amazon.com/images/P/0439139597.0...             387   \n",
              "5    http://images.amazon.com/images/P/0590353403.0...             278   \n",
              "9    http://images.amazon.com/images/P/043935806X.0...             347   \n",
              "13   http://images.amazon.com/images/P/0439064872.0...             556   \n",
              "16   http://images.amazon.com/images/P/0345339681.0...             281   \n",
              "17   http://images.amazon.com/images/P/0345339703.0...             368   \n",
              "26   http://images.amazon.com/images/P/059035342X.0...             575   \n",
              "28   http://images.amazon.com/images/P/0345339711.0...             260   \n",
              "39   http://images.amazon.com/images/P/0446310786.0...             510   \n",
              "47   http://images.amazon.com/images/P/0385504209.0...             898   \n",
              "53   http://images.amazon.com/images/P/0786868716.0...             430   \n",
              "55   http://images.amazon.com/images/P/0316769487.0...             449   \n",
              "62   http://images.amazon.com/images/P/0316666343.0...            1295   \n",
              "63   http://images.amazon.com/images/P/0451524934.0...             284   \n",
              "72   http://images.amazon.com/images/P/0060959037.0...             253   \n",
              "73   http://images.amazon.com/images/P/0380789019.0...             265   \n",
              "78   http://images.amazon.com/images/P/0142001740.0...             774   \n",
              "84   http://images.amazon.com/images/P/0060392452.0...             283   \n",
              "85   http://images.amazon.com/images/P/0385484518.0...             493   \n",
              "88   http://images.amazon.com/images/P/0312195516.0...             723   \n",
              "89   http://images.amazon.com/images/P/0671461494.0...             268   \n",
              "98   http://images.amazon.com/images/P/0805063897.0...             335   \n",
              "100  http://images.amazon.com/images/P/0385486804.0...             252   \n",
              "103  http://images.amazon.com/images/P/3257208626.0...             409   \n",
              "116  http://images.amazon.com/images/P/0452282152.0...             526   \n",
              "117  http://images.amazon.com/images/P/0440222915.0...             283   \n",
              "123  http://images.amazon.com/images/P/0446672211.0...             585   \n",
              "124  http://images.amazon.com/images/P/0449005615.0...             275   \n",
              "126  http://images.amazon.com/images/P/0151008116.0...             664   \n",
              "130  http://images.amazon.com/images/P/0060915544.0...             389   \n",
              "133  http://images.amazon.com/images/P/1558743669.0...             265   \n",
              "135  http://images.amazon.com/images/P/0684874350.0...             279   \n",
              "137  http://images.amazon.com/images/P/0743418174.0...             490   \n",
              "139  http://images.amazon.com/images/P/0060938455.0...             321   \n",
              "140  http://images.amazon.com/images/P/0380789035.0...             302   \n",
              "141  http://images.amazon.com/images/P/0385505833.0...             322   \n",
              "147  http://images.amazon.com/images/P/0842329129.0...             318   \n",
              "149  http://images.amazon.com/images/P/037582345X.0...             336   \n",
              "157  http://images.amazon.com/images/P/0671617028.0...             314   \n",
              "163  http://images.amazon.com/images/P/0312924585.0...             256   \n",
              "166  http://images.amazon.com/images/P/1573227331.0...             262   \n",
              "173  http://images.amazon.com/images/P/0312265840.0...             278   \n",
              "175  http://images.amazon.com/images/P/0062502174.0...             266   \n",
              "177  http://images.amazon.com/images/P/0312983867.0...             269   \n",
              "182  http://images.amazon.com/images/P/0316969443.0...             457   \n",
              "186  http://images.amazon.com/images/P/0399501487.0...             259   \n",
              "192  http://images.amazon.com/images/P/0345361792.0...             413   \n",
              "194  http://images.amazon.com/images/P/0345313860.0...             301   \n",
              "195  http://images.amazon.com/images/P/0316284955.0...             356   \n",
              "\n",
              "     avg_rating  \n",
              "0      5.852804  \n",
              "3      5.824289  \n",
              "5      5.737410  \n",
              "9      5.501441  \n",
              "13     5.183453  \n",
              "16     5.007117  \n",
              "17     4.948370  \n",
              "26     4.895652  \n",
              "28     4.880769  \n",
              "39     4.700000  \n",
              "47     4.642539  \n",
              "53     4.551163  \n",
              "55     4.545657  \n",
              "62     4.468726  \n",
              "63     4.454225  \n",
              "72     4.450593  \n",
              "73     4.449057  \n",
              "78     4.447028  \n",
              "84     4.356890  \n",
              "85     4.354970  \n",
              "88     4.334716  \n",
              "89     4.328358  \n",
              "98     4.289552  \n",
              "100    4.273810  \n",
              "103    4.264059  \n",
              "116    4.218631  \n",
              "117    4.173145  \n",
              "123    4.105983  \n",
              "124    4.098182  \n",
              "126    4.088855  \n",
              "130    4.087404  \n",
              "133    4.086792  \n",
              "135    4.075269  \n",
              "137    4.055102  \n",
              "139    4.037383  \n",
              "140    4.006623  \n",
              "141    4.006211  \n",
              "147    4.003145  \n",
              "149    4.000000  \n",
              "157    3.964968  \n",
              "163    3.960938  \n",
              "166    3.900763  \n",
              "173    3.888489  \n",
              "175    3.875940  \n",
              "177    3.825279  \n",
              "182    3.820569  \n",
              "186    3.818533  \n",
              "192    3.796610  \n",
              "194    3.777409  \n",
              "195    3.772472  "
            ]
          },
          "execution_count": 56,
          "metadata": {},
          "output_type": "execute_result"
        }
      ],
      "source": [
        "popularity_recommender"
      ]
    },
    {
      "cell_type": "markdown",
      "metadata": {
        "id": "QFJ2zJZBnd15"
      },
      "source": [
        "# Collaborative Filtering Based Recommender System"
      ]
    },
    {
      "cell_type": "code",
      "execution_count": 57,
      "metadata": {
        "id": "SgKxNv7ZR6gy"
      },
      "outputs": [],
      "source": [
        "user_ratings_count = rating_book_name['User-ID'].value_counts()\n",
        "user_ids = user_ratings_count[user_ratings_count > 200].index.tolist()"
      ]
    },
    {
      "cell_type": "code",
      "execution_count": 58,
      "metadata": {
        "id": "V7iuJL93oRkN"
      },
      "outputs": [],
      "source": [
        "filtered_rating = rating_book_name[rating_book_name['User-ID'].isin(user_ids)]"
      ]
    },
    {
      "cell_type": "code",
      "execution_count": 59,
      "metadata": {
        "id": "pPPq_DYqo77G"
      },
      "outputs": [],
      "source": [
        "book_ratings_count = filtered_rating['Book-Title'].value_counts()\n",
        "selected_books = book_ratings_count[book_ratings_count >= 50].index.tolist()"
      ]
    },
    {
      "cell_type": "code",
      "execution_count": 60,
      "metadata": {
        "id": "XE6eTofAocSR"
      },
      "outputs": [],
      "source": [
        "final_filtered_ratings = filtered_rating[filtered_rating['Book-Title'].isin(selected_books)]"
      ]
    },
    {
      "cell_type": "code",
      "execution_count": 61,
      "metadata": {
        "id": "qh-v9l2IpgqE"
      },
      "outputs": [],
      "source": [
        "collaborative_filter = final_filtered_ratings.pivot_table(index='Book-Title',columns='User-ID',values='Book-Rating')"
      ]
    },
    {
      "cell_type": "code",
      "execution_count": 62,
      "metadata": {
        "id": "Q35SvHVFqPMa"
      },
      "outputs": [],
      "source": [
        "collaborative_filter.fillna(0,inplace=True)"
      ]
    },
    {
      "cell_type": "code",
      "execution_count": 63,
      "metadata": {
        "colab": {
          "base_uri": "https://localhost:8080/",
          "height": 455
        },
        "id": "1FlljkT9phnd",
        "outputId": "9ae2b866-9680-4c12-88a6-517a1f1e33ef"
      },
      "outputs": [
        {
          "data": {
            "text/html": [
              "<div>\n",
              "<style scoped>\n",
              "    .dataframe tbody tr th:only-of-type {\n",
              "        vertical-align: middle;\n",
              "    }\n",
              "\n",
              "    .dataframe tbody tr th {\n",
              "        vertical-align: top;\n",
              "    }\n",
              "\n",
              "    .dataframe thead th {\n",
              "        text-align: right;\n",
              "    }\n",
              "</style>\n",
              "<table border=\"1\" class=\"dataframe\">\n",
              "  <thead>\n",
              "    <tr style=\"text-align: right;\">\n",
              "      <th>User-ID</th>\n",
              "      <th>254</th>\n",
              "      <th>2276</th>\n",
              "      <th>2766</th>\n",
              "      <th>2977</th>\n",
              "      <th>3363</th>\n",
              "      <th>4017</th>\n",
              "      <th>4385</th>\n",
              "      <th>6251</th>\n",
              "      <th>6323</th>\n",
              "      <th>6543</th>\n",
              "      <th>...</th>\n",
              "      <th>271705</th>\n",
              "      <th>273979</th>\n",
              "      <th>274004</th>\n",
              "      <th>274061</th>\n",
              "      <th>274301</th>\n",
              "      <th>274308</th>\n",
              "      <th>275970</th>\n",
              "      <th>277427</th>\n",
              "      <th>277639</th>\n",
              "      <th>278418</th>\n",
              "    </tr>\n",
              "    <tr>\n",
              "      <th>Book-Title</th>\n",
              "      <th></th>\n",
              "      <th></th>\n",
              "      <th></th>\n",
              "      <th></th>\n",
              "      <th></th>\n",
              "      <th></th>\n",
              "      <th></th>\n",
              "      <th></th>\n",
              "      <th></th>\n",
              "      <th></th>\n",
              "      <th></th>\n",
              "      <th></th>\n",
              "      <th></th>\n",
              "      <th></th>\n",
              "      <th></th>\n",
              "      <th></th>\n",
              "      <th></th>\n",
              "      <th></th>\n",
              "      <th></th>\n",
              "      <th></th>\n",
              "      <th></th>\n",
              "    </tr>\n",
              "  </thead>\n",
              "  <tbody>\n",
              "    <tr>\n",
              "      <th>1984</th>\n",
              "      <td>9.0</td>\n",
              "      <td>0.0</td>\n",
              "      <td>0.0</td>\n",
              "      <td>0.0</td>\n",
              "      <td>0.0</td>\n",
              "      <td>0.0</td>\n",
              "      <td>0.0</td>\n",
              "      <td>0.0</td>\n",
              "      <td>0.0</td>\n",
              "      <td>0.0</td>\n",
              "      <td>...</td>\n",
              "      <td>10.0</td>\n",
              "      <td>0.0</td>\n",
              "      <td>0.0</td>\n",
              "      <td>0.0</td>\n",
              "      <td>0.0</td>\n",
              "      <td>0.0</td>\n",
              "      <td>0.0</td>\n",
              "      <td>0.0</td>\n",
              "      <td>0.0</td>\n",
              "      <td>0.0</td>\n",
              "    </tr>\n",
              "    <tr>\n",
              "      <th>1st to Die: A Novel</th>\n",
              "      <td>0.0</td>\n",
              "      <td>0.0</td>\n",
              "      <td>0.0</td>\n",
              "      <td>0.0</td>\n",
              "      <td>0.0</td>\n",
              "      <td>0.0</td>\n",
              "      <td>0.0</td>\n",
              "      <td>0.0</td>\n",
              "      <td>0.0</td>\n",
              "      <td>9.0</td>\n",
              "      <td>...</td>\n",
              "      <td>0.0</td>\n",
              "      <td>0.0</td>\n",
              "      <td>0.0</td>\n",
              "      <td>0.0</td>\n",
              "      <td>0.0</td>\n",
              "      <td>0.0</td>\n",
              "      <td>0.0</td>\n",
              "      <td>0.0</td>\n",
              "      <td>0.0</td>\n",
              "      <td>0.0</td>\n",
              "    </tr>\n",
              "    <tr>\n",
              "      <th>2nd Chance</th>\n",
              "      <td>0.0</td>\n",
              "      <td>10.0</td>\n",
              "      <td>0.0</td>\n",
              "      <td>0.0</td>\n",
              "      <td>0.0</td>\n",
              "      <td>0.0</td>\n",
              "      <td>0.0</td>\n",
              "      <td>0.0</td>\n",
              "      <td>0.0</td>\n",
              "      <td>0.0</td>\n",
              "      <td>...</td>\n",
              "      <td>0.0</td>\n",
              "      <td>0.0</td>\n",
              "      <td>0.0</td>\n",
              "      <td>0.0</td>\n",
              "      <td>0.0</td>\n",
              "      <td>0.0</td>\n",
              "      <td>0.0</td>\n",
              "      <td>0.0</td>\n",
              "      <td>0.0</td>\n",
              "      <td>0.0</td>\n",
              "    </tr>\n",
              "    <tr>\n",
              "      <th>4 Blondes</th>\n",
              "      <td>0.0</td>\n",
              "      <td>0.0</td>\n",
              "      <td>0.0</td>\n",
              "      <td>0.0</td>\n",
              "      <td>0.0</td>\n",
              "      <td>0.0</td>\n",
              "      <td>0.0</td>\n",
              "      <td>0.0</td>\n",
              "      <td>0.0</td>\n",
              "      <td>0.0</td>\n",
              "      <td>...</td>\n",
              "      <td>0.0</td>\n",
              "      <td>0.0</td>\n",
              "      <td>0.0</td>\n",
              "      <td>0.0</td>\n",
              "      <td>0.0</td>\n",
              "      <td>0.0</td>\n",
              "      <td>0.0</td>\n",
              "      <td>0.0</td>\n",
              "      <td>0.0</td>\n",
              "      <td>0.0</td>\n",
              "    </tr>\n",
              "    <tr>\n",
              "      <th>A Bend in the Road</th>\n",
              "      <td>0.0</td>\n",
              "      <td>0.0</td>\n",
              "      <td>7.0</td>\n",
              "      <td>0.0</td>\n",
              "      <td>0.0</td>\n",
              "      <td>0.0</td>\n",
              "      <td>0.0</td>\n",
              "      <td>0.0</td>\n",
              "      <td>0.0</td>\n",
              "      <td>0.0</td>\n",
              "      <td>...</td>\n",
              "      <td>0.0</td>\n",
              "      <td>0.0</td>\n",
              "      <td>0.0</td>\n",
              "      <td>0.0</td>\n",
              "      <td>0.0</td>\n",
              "      <td>0.0</td>\n",
              "      <td>0.0</td>\n",
              "      <td>0.0</td>\n",
              "      <td>0.0</td>\n",
              "      <td>0.0</td>\n",
              "    </tr>\n",
              "    <tr>\n",
              "      <th>...</th>\n",
              "      <td>...</td>\n",
              "      <td>...</td>\n",
              "      <td>...</td>\n",
              "      <td>...</td>\n",
              "      <td>...</td>\n",
              "      <td>...</td>\n",
              "      <td>...</td>\n",
              "      <td>...</td>\n",
              "      <td>...</td>\n",
              "      <td>...</td>\n",
              "      <td>...</td>\n",
              "      <td>...</td>\n",
              "      <td>...</td>\n",
              "      <td>...</td>\n",
              "      <td>...</td>\n",
              "      <td>...</td>\n",
              "      <td>...</td>\n",
              "      <td>...</td>\n",
              "      <td>...</td>\n",
              "      <td>...</td>\n",
              "      <td>...</td>\n",
              "    </tr>\n",
              "    <tr>\n",
              "      <th>Year of Wonders</th>\n",
              "      <td>0.0</td>\n",
              "      <td>0.0</td>\n",
              "      <td>0.0</td>\n",
              "      <td>7.0</td>\n",
              "      <td>0.0</td>\n",
              "      <td>0.0</td>\n",
              "      <td>0.0</td>\n",
              "      <td>0.0</td>\n",
              "      <td>0.0</td>\n",
              "      <td>0.0</td>\n",
              "      <td>...</td>\n",
              "      <td>0.0</td>\n",
              "      <td>9.0</td>\n",
              "      <td>0.0</td>\n",
              "      <td>0.0</td>\n",
              "      <td>0.0</td>\n",
              "      <td>0.0</td>\n",
              "      <td>0.0</td>\n",
              "      <td>0.0</td>\n",
              "      <td>0.0</td>\n",
              "      <td>0.0</td>\n",
              "    </tr>\n",
              "    <tr>\n",
              "      <th>You Belong To Me</th>\n",
              "      <td>0.0</td>\n",
              "      <td>0.0</td>\n",
              "      <td>0.0</td>\n",
              "      <td>0.0</td>\n",
              "      <td>0.0</td>\n",
              "      <td>0.0</td>\n",
              "      <td>0.0</td>\n",
              "      <td>0.0</td>\n",
              "      <td>0.0</td>\n",
              "      <td>0.0</td>\n",
              "      <td>...</td>\n",
              "      <td>0.0</td>\n",
              "      <td>0.0</td>\n",
              "      <td>0.0</td>\n",
              "      <td>0.0</td>\n",
              "      <td>0.0</td>\n",
              "      <td>0.0</td>\n",
              "      <td>0.0</td>\n",
              "      <td>0.0</td>\n",
              "      <td>0.0</td>\n",
              "      <td>0.0</td>\n",
              "    </tr>\n",
              "    <tr>\n",
              "      <th>Zen and the Art of Motorcycle Maintenance: An Inquiry into Values</th>\n",
              "      <td>0.0</td>\n",
              "      <td>0.0</td>\n",
              "      <td>0.0</td>\n",
              "      <td>0.0</td>\n",
              "      <td>0.0</td>\n",
              "      <td>0.0</td>\n",
              "      <td>0.0</td>\n",
              "      <td>0.0</td>\n",
              "      <td>0.0</td>\n",
              "      <td>0.0</td>\n",
              "      <td>...</td>\n",
              "      <td>0.0</td>\n",
              "      <td>0.0</td>\n",
              "      <td>0.0</td>\n",
              "      <td>0.0</td>\n",
              "      <td>0.0</td>\n",
              "      <td>0.0</td>\n",
              "      <td>0.0</td>\n",
              "      <td>0.0</td>\n",
              "      <td>0.0</td>\n",
              "      <td>0.0</td>\n",
              "    </tr>\n",
              "    <tr>\n",
              "      <th>Zoya</th>\n",
              "      <td>0.0</td>\n",
              "      <td>0.0</td>\n",
              "      <td>0.0</td>\n",
              "      <td>0.0</td>\n",
              "      <td>0.0</td>\n",
              "      <td>0.0</td>\n",
              "      <td>0.0</td>\n",
              "      <td>0.0</td>\n",
              "      <td>0.0</td>\n",
              "      <td>0.0</td>\n",
              "      <td>...</td>\n",
              "      <td>0.0</td>\n",
              "      <td>0.0</td>\n",
              "      <td>0.0</td>\n",
              "      <td>0.0</td>\n",
              "      <td>0.0</td>\n",
              "      <td>0.0</td>\n",
              "      <td>0.0</td>\n",
              "      <td>0.0</td>\n",
              "      <td>0.0</td>\n",
              "      <td>0.0</td>\n",
              "    </tr>\n",
              "    <tr>\n",
              "      <th>\\O\\\" Is for Outlaw\"</th>\n",
              "      <td>0.0</td>\n",
              "      <td>0.0</td>\n",
              "      <td>0.0</td>\n",
              "      <td>0.0</td>\n",
              "      <td>0.0</td>\n",
              "      <td>0.0</td>\n",
              "      <td>0.0</td>\n",
              "      <td>0.0</td>\n",
              "      <td>0.0</td>\n",
              "      <td>0.0</td>\n",
              "      <td>...</td>\n",
              "      <td>0.0</td>\n",
              "      <td>0.0</td>\n",
              "      <td>0.0</td>\n",
              "      <td>0.0</td>\n",
              "      <td>8.0</td>\n",
              "      <td>0.0</td>\n",
              "      <td>0.0</td>\n",
              "      <td>0.0</td>\n",
              "      <td>0.0</td>\n",
              "      <td>0.0</td>\n",
              "    </tr>\n",
              "  </tbody>\n",
              "</table>\n",
              "<p>706 rows × 810 columns</p>\n",
              "</div>"
            ],
            "text/plain": [
              "User-ID                                             254     2276    2766    \\\n",
              "Book-Title                                                                   \n",
              "1984                                                   9.0     0.0     0.0   \n",
              "1st to Die: A Novel                                    0.0     0.0     0.0   \n",
              "2nd Chance                                             0.0    10.0     0.0   \n",
              "4 Blondes                                              0.0     0.0     0.0   \n",
              "A Bend in the Road                                     0.0     0.0     7.0   \n",
              "...                                                    ...     ...     ...   \n",
              "Year of Wonders                                        0.0     0.0     0.0   \n",
              "You Belong To Me                                       0.0     0.0     0.0   \n",
              "Zen and the Art of Motorcycle Maintenance: An I...     0.0     0.0     0.0   \n",
              "Zoya                                                   0.0     0.0     0.0   \n",
              "\\O\\\" Is for Outlaw\"                                    0.0     0.0     0.0   \n",
              "\n",
              "User-ID                                             2977    3363    4017    \\\n",
              "Book-Title                                                                   \n",
              "1984                                                   0.0     0.0     0.0   \n",
              "1st to Die: A Novel                                    0.0     0.0     0.0   \n",
              "2nd Chance                                             0.0     0.0     0.0   \n",
              "4 Blondes                                              0.0     0.0     0.0   \n",
              "A Bend in the Road                                     0.0     0.0     0.0   \n",
              "...                                                    ...     ...     ...   \n",
              "Year of Wonders                                        7.0     0.0     0.0   \n",
              "You Belong To Me                                       0.0     0.0     0.0   \n",
              "Zen and the Art of Motorcycle Maintenance: An I...     0.0     0.0     0.0   \n",
              "Zoya                                                   0.0     0.0     0.0   \n",
              "\\O\\\" Is for Outlaw\"                                    0.0     0.0     0.0   \n",
              "\n",
              "User-ID                                             4385    6251    6323    \\\n",
              "Book-Title                                                                   \n",
              "1984                                                   0.0     0.0     0.0   \n",
              "1st to Die: A Novel                                    0.0     0.0     0.0   \n",
              "2nd Chance                                             0.0     0.0     0.0   \n",
              "4 Blondes                                              0.0     0.0     0.0   \n",
              "A Bend in the Road                                     0.0     0.0     0.0   \n",
              "...                                                    ...     ...     ...   \n",
              "Year of Wonders                                        0.0     0.0     0.0   \n",
              "You Belong To Me                                       0.0     0.0     0.0   \n",
              "Zen and the Art of Motorcycle Maintenance: An I...     0.0     0.0     0.0   \n",
              "Zoya                                                   0.0     0.0     0.0   \n",
              "\\O\\\" Is for Outlaw\"                                    0.0     0.0     0.0   \n",
              "\n",
              "User-ID                                             6543    ...  271705  \\\n",
              "Book-Title                                                  ...           \n",
              "1984                                                   0.0  ...    10.0   \n",
              "1st to Die: A Novel                                    9.0  ...     0.0   \n",
              "2nd Chance                                             0.0  ...     0.0   \n",
              "4 Blondes                                              0.0  ...     0.0   \n",
              "A Bend in the Road                                     0.0  ...     0.0   \n",
              "...                                                    ...  ...     ...   \n",
              "Year of Wonders                                        0.0  ...     0.0   \n",
              "You Belong To Me                                       0.0  ...     0.0   \n",
              "Zen and the Art of Motorcycle Maintenance: An I...     0.0  ...     0.0   \n",
              "Zoya                                                   0.0  ...     0.0   \n",
              "\\O\\\" Is for Outlaw\"                                    0.0  ...     0.0   \n",
              "\n",
              "User-ID                                             273979  274004  274061  \\\n",
              "Book-Title                                                                   \n",
              "1984                                                   0.0     0.0     0.0   \n",
              "1st to Die: A Novel                                    0.0     0.0     0.0   \n",
              "2nd Chance                                             0.0     0.0     0.0   \n",
              "4 Blondes                                              0.0     0.0     0.0   \n",
              "A Bend in the Road                                     0.0     0.0     0.0   \n",
              "...                                                    ...     ...     ...   \n",
              "Year of Wonders                                        9.0     0.0     0.0   \n",
              "You Belong To Me                                       0.0     0.0     0.0   \n",
              "Zen and the Art of Motorcycle Maintenance: An I...     0.0     0.0     0.0   \n",
              "Zoya                                                   0.0     0.0     0.0   \n",
              "\\O\\\" Is for Outlaw\"                                    0.0     0.0     0.0   \n",
              "\n",
              "User-ID                                             274301  274308  275970  \\\n",
              "Book-Title                                                                   \n",
              "1984                                                   0.0     0.0     0.0   \n",
              "1st to Die: A Novel                                    0.0     0.0     0.0   \n",
              "2nd Chance                                             0.0     0.0     0.0   \n",
              "4 Blondes                                              0.0     0.0     0.0   \n",
              "A Bend in the Road                                     0.0     0.0     0.0   \n",
              "...                                                    ...     ...     ...   \n",
              "Year of Wonders                                        0.0     0.0     0.0   \n",
              "You Belong To Me                                       0.0     0.0     0.0   \n",
              "Zen and the Art of Motorcycle Maintenance: An I...     0.0     0.0     0.0   \n",
              "Zoya                                                   0.0     0.0     0.0   \n",
              "\\O\\\" Is for Outlaw\"                                    8.0     0.0     0.0   \n",
              "\n",
              "User-ID                                             277427  277639  278418  \n",
              "Book-Title                                                                  \n",
              "1984                                                   0.0     0.0     0.0  \n",
              "1st to Die: A Novel                                    0.0     0.0     0.0  \n",
              "2nd Chance                                             0.0     0.0     0.0  \n",
              "4 Blondes                                              0.0     0.0     0.0  \n",
              "A Bend in the Road                                     0.0     0.0     0.0  \n",
              "...                                                    ...     ...     ...  \n",
              "Year of Wonders                                        0.0     0.0     0.0  \n",
              "You Belong To Me                                       0.0     0.0     0.0  \n",
              "Zen and the Art of Motorcycle Maintenance: An I...     0.0     0.0     0.0  \n",
              "Zoya                                                   0.0     0.0     0.0  \n",
              "\\O\\\" Is for Outlaw\"                                    0.0     0.0     0.0  \n",
              "\n",
              "[706 rows x 810 columns]"
            ]
          },
          "execution_count": 63,
          "metadata": {},
          "output_type": "execute_result"
        }
      ],
      "source": [
        "collaborative_filter"
      ]
    },
    {
      "cell_type": "code",
      "execution_count": 64,
      "metadata": {
        "id": "Mv75IkKVqOHQ"
      },
      "outputs": [],
      "source": [
        "similarity_scores = cosine_similarity(collaborative_filter)"
      ]
    },
    {
      "cell_type": "code",
      "execution_count": 65,
      "metadata": {
        "colab": {
          "base_uri": "https://localhost:8080/"
        },
        "id": "cHrF5ha0qlkA",
        "outputId": "e43c65af-7e8c-4cd4-824d-1af44b0c02b0"
      },
      "outputs": [
        {
          "data": {
            "text/plain": [
              "(706, 706)"
            ]
          },
          "execution_count": 65,
          "metadata": {},
          "output_type": "execute_result"
        }
      ],
      "source": [
        "similarity_scores.shape"
      ]
    },
    {
      "cell_type": "code",
      "execution_count": 67,
      "metadata": {
        "id": "JIyt_DIpql3i"
      },
      "outputs": [],
      "source": [
        "def recommender(book_name):\n",
        "    index = np.where(collaborative_filter.index==book_name)[0][0]\n",
        "    similar_items = sorted(enumerate(similarity_scores[index]), key=lambda x: x[1], reverse=True)[1:11]\n",
        "    recommended_books  = []\n",
        "    for i in similar_items:\n",
        "        item = []\n",
        "        temp_df = books[books['Book-Title'] == collaborative_filter.index[i[0]]]\n",
        "        item.extend(list(temp_df.drop_duplicates('Book-Title')['Book-Title'].values))\n",
        "        item.extend(list(temp_df.drop_duplicates('Book-Title')['Book-Author'].values))\n",
        "        item.extend(list(temp_df.drop_duplicates('Book-Title')['Year-Of-Publication'].values))\n",
        "        item.extend(list(temp_df.drop_duplicates('Book-Title')['Image-URL-M'].values))\n",
        "        recommended_books .append(item)\n",
        "\n",
        "    return recommended_books"
      ]
    },
    {
      "cell_type": "code",
      "execution_count": 68,
      "metadata": {
        "colab": {
          "base_uri": "https://localhost:8080/"
        },
        "id": "oJchZVL7uMNB",
        "outputId": "196ccb19-7edd-4f5c-c78c-80e54c7566d9"
      },
      "outputs": [
        {
          "data": {
            "text/plain": [
              "704"
            ]
          },
          "execution_count": 68,
          "metadata": {},
          "output_type": "execute_result"
        }
      ],
      "source": [
        "np.where(collaborative_filter.index=='Zoya')[0][0]"
      ]
    },
    {
      "cell_type": "code",
      "execution_count": 69,
      "metadata": {
        "colab": {
          "base_uri": "https://localhost:8080/"
        },
        "id": "aWIPTM3_s43q",
        "outputId": "cbe8312b-295a-4209-d851-9004569ba57c"
      },
      "outputs": [
        {
          "data": {
            "text/plain": [
              "[['A Walk to Remember',\n",
              "  'Nicholas Sparks',\n",
              "  2000,\n",
              "  'http://images.amazon.com/images/P/0446608955.01.MZZZZZZZ.jpg'],\n",
              " ['The Last Time They Met : A Novel',\n",
              "  'Anita Shreve',\n",
              "  2002,\n",
              "  'http://images.amazon.com/images/P/0316781266.01.MZZZZZZZ.jpg'],\n",
              " ['Sea Glass: A Novel',\n",
              "  'Anita Shreve',\n",
              "  2003,\n",
              "  'http://images.amazon.com/images/P/0316089699.01.MZZZZZZZ.jpg'],\n",
              " ['Angels',\n",
              "  'Marian Keyes',\n",
              "  2002,\n",
              "  'http://images.amazon.com/images/P/0060008024.01.MZZZZZZZ.jpg'],\n",
              " ['Family Album',\n",
              "  'Danielle Steel',\n",
              "  1989,\n",
              "  'http://images.amazon.com/images/P/0440124344.01.MZZZZZZZ.jpg'],\n",
              " ['Cradle and All',\n",
              "  'James Patterson',\n",
              "  2000,\n",
              "  'http://images.amazon.com/images/P/0316690619.01.MZZZZZZZ.jpg'],\n",
              " ['Nights in Rodanthe',\n",
              "  'Nicholas Sparks',\n",
              "  2002,\n",
              "  'http://images.amazon.com/images/P/0446531332.01.MZZZZZZZ.jpg'],\n",
              " ['By the Light of the Moon',\n",
              "  'DEAN KOONTZ',\n",
              "  2003,\n",
              "  'http://images.amazon.com/images/P/0553582763.01.MZZZZZZZ.jpg'],\n",
              " ['The Rescue',\n",
              "  'Nicholas Sparks',\n",
              "  2001,\n",
              "  'http://images.amazon.com/images/P/0446610399.01.MZZZZZZZ.jpg'],\n",
              " ['Circle of Friends',\n",
              "  'Maeve Binchy',\n",
              "  1991,\n",
              "  'http://images.amazon.com/images/P/0440211263.01.MZZZZZZZ.jpg']]"
            ]
          },
          "execution_count": 69,
          "metadata": {},
          "output_type": "execute_result"
        }
      ],
      "source": [
        "recommender('A Bend in the Road')"
      ]
    },
    {
      "cell_type": "code",
      "execution_count": null,
      "metadata": {
        "id": "o0YnB5Xes7-r"
      },
      "outputs": [],
      "source": []
    }
  ],
  "metadata": {
    "colab": {
      "provenance": []
    },
    "kernelspec": {
      "display_name": "Python 3",
      "name": "python3"
    },
    "language_info": {
      "codemirror_mode": {
        "name": "ipython",
        "version": 3
      },
      "file_extension": ".py",
      "mimetype": "text/x-python",
      "name": "python",
      "nbconvert_exporter": "python",
      "pygments_lexer": "ipython3",
      "version": "3.8.0"
    }
  },
  "nbformat": 4,
  "nbformat_minor": 0
}
